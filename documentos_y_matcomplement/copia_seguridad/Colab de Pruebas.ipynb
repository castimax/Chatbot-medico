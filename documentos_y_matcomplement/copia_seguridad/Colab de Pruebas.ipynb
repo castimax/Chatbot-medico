{
  "cells": [
    {
      "cell_type": "markdown",
      "metadata": {
        "colab_type": "text",
        "id": "view-in-github"
      },
      "source": [
        "<a href=\"https://colab.research.google.com/github/davidfdezmartin/Chatbot-con-FastAPI-Streamlit-y-LangChain/blob/main/documentos_y_matcomplement/Colab%20de%20Pruebas.ipynb\" target=\"_parent\"><img src=\"https://colab.research.google.com/assets/colab-badge.svg\" alt=\"Open In Colab\"/></a>"
      ]
    },
    {
      "cell_type": "markdown",
      "metadata": {
        "id": "avPoFH9T_X8B"
      },
      "source": [
        "Aquí monto requeriments2.txt del GitHub pero com la libreria typer==0.09.0, que por un lado debe ser <0.10.00 (por eso he puesto 0.09.0 y por otro mayor que para fastapi-cli 0.0.4 requires typer>=0.12.3, a REVISARLO"
      ]
    },
    {
      "cell_type": "markdown",
      "metadata": {
        "id": "LeKeYrcC8o2z"
      },
      "source": [
        "Si se ha instalado longchain y falla, quitar el # del comentario de esta celda.\n",
        "Uso rutas absolutas respecto al GitHub al principio para que no falle."
      ]
    },
    {
      "cell_type": "code",
      "execution_count": null,
      "metadata": {
        "colab": {
          "base_uri": "https://localhost:8080/"
        },
        "id": "WkaYUOpwZ-d6",
        "outputId": "6833a08e-76be-4c72-d05c-11eddc6a35c3"
      },
      "outputs": [],
      "source": [
        "#  %pip uninstall -y langchain langchain-community\n",
        "%pip install -r \"../requirements2.txt\""
      ]
    },
    {
      "cell_type": "markdown",
      "metadata": {
        "id": "R3ulmY2na_zL"
      },
      "source": [
        "SI HACE FALTA WIKI-LANGCHAIN. En celdas posteriores se hacen pruebas."
      ]
    },
    {
      "cell_type": "code",
      "execution_count": 2,
      "metadata": {
        "colab": {
          "base_uri": "https://localhost:8080/"
        },
        "id": "aDeVvW7iXd0z",
        "outputId": "ac96d7c0-1b24-497b-dc64-cf2d9d4a0516"
      },
      "outputs": [
        {
          "name": "stdout",
          "output_type": "stream",
          "text": [
            "Note: you may need to restart the kernel to use updated packages.\n"
          ]
        }
      ],
      "source": [
        "%pip install --upgrade --quiet wikipedia langchain langchain_community\n"
      ]
    },
    {
      "cell_type": "markdown",
      "metadata": {
        "id": "qNPGlxA3ar9Q"
      },
      "source": [
        "AGENTE DE USUARIO PARA WIKIPEDIA"
      ]
    },
    {
      "cell_type": "markdown",
      "metadata": {},
      "source": [
        "1) Hago una prueba pidiendole a Wiki DIABETES PRIMERO y funciona sin problema. \n",
        "\n",
        "2) Luego hago una prueba de idioma para ver si tb funciona en español con una búsqueda multiple de términos\n",
        "queries = [\"Diabetes\", \"Hemocromatosis\", \"Cáncer\", \"Hipertensión\"]\n",
        "\n",
        "Cambios probados:\n",
        "Idioma del API de Wikipedia Y PRUEBO UNA BUSQUEDA MULTIPLE:\n",
        "\n",
        "wiki_wiki = wikipediaapi.Wikipedia('es', headers={'User-Agent': user_agent})\n",
        "Mensaje de error en español:\n",
        "\n",
        "return \"No se encontró la página para la consulta: \" + query\n",
        "Estos cambios aseguran que las consultas a Wikipedia se realicen en la versión en español y que cualquier mensaje de error también esté en español.\n",
        "\n",
        "RESULTADO: Busca en la wiki en ingles, por lo que los terminos que no son iguales en los 2 idiomas, no los encuentra."
      ]
    },
    {
      "cell_type": "code",
      "execution_count": 15,
      "metadata": {
        "colab": {
          "base_uri": "https://localhost:8080/"
        },
        "id": "MrTAmQg-avk8",
        "outputId": "99de8728-f0a0-4d63-8e5e-a7517f7e1a30"
      },
      "outputs": [
        {
          "name": "stdout",
          "output_type": "stream",
          "text": [
            "Resultado para 'Diabetes':\n",
            "Diabetes mellitus, often known simply as diabetes, is a group of common endocrine diseases characterized by sustained high blood sugar levels. Diabetes is due to either the pancreas not producing enough insulin, or the cells of the body becoming unresponsive to the hormone's effects. Classic symptoms include thirst, polyuria, weight loss, and blurred vision. If left untreated, the disease can lead to various health complications, including disorders of the cardiovascular system, eye, kidney, and nerves. Untreated or poorly treated diabetes accounts for approximately 1.5 million deaths every year.\n",
            "The major types of diabetes are type 1 and type 2. The most common treatment for type 1 is insulin replacement therapy (insulin injections), while anti-diabetic medications (such as metformin and semaglutide) and lifestyle modifications can be used to manage type 2. Gestational diabetes, a form that arises during pregnancy in some women, normally resolves shortly after delivery.\n",
            "As of 2021, an estimated 537 million people had diabetes worldwide accounting for 10.5% of the adult population, with type 2 making up about 90% of all cases. It is estimated that by 2045, approximately 783 million adults, or 1 in 8, will be living with diabetes, representing a 46% increase from the current figures. The prevalence of the disease continues to increase, most dramatically in low- and middle-income nations. Rates are similar in women and men, with diabetes being the seventh leading cause of death globally. The global expenditure on diabetes-related healthcare is an estimated US$760 billion a year.\n",
            "\n",
            "Resultado para 'Hemocromatosis':\n",
            "No se encontró la página para la consulta: Hemocromatosis\n",
            "\n",
            "Resultado para 'Cáncer':\n",
            "No se encontró la página para la consulta: Cáncer\n",
            "\n",
            "Resultado para 'Hipertensión':\n",
            "No se encontró la página para la consulta: Hipertensión\n",
            "\n"
          ]
        }
      ],
      "source": [
        "import wikipediaapi\n",
        "\n",
        "# Configuración de la API de Wikipedia con agente de usuario\n",
        "user_agent = 'MyApp/1.0 (example@example.com)'\n",
        "wiki_wiki = wikipediaapi.Wikipedia('es', headers={'User-Agent': user_agent})\n",
        "\n",
        "def get_wikipedia_summary(query):\n",
        "    page = wiki_wiki.page(query)\n",
        "    if page.exists():\n",
        "        return page.summary\n",
        "    else:\n",
        "        return \"No se encontró la página para la consulta: \" + query\n",
        "\n",
        "# Ejemplo de uso con varios términos en español\n",
        "queries = [\"Diabetes\", \"Hemocromatosis\", \"Cáncer\", \"Hipertensión\"]\n",
        "for query in queries:\n",
        "    result = get_wikipedia_summary(query)\n",
        "    print(f\"Resultado para '{query}':\\n{result}\\n\")\n"
      ]
    },
    {
      "cell_type": "markdown",
      "metadata": {
        "id": "YPTCzk1ebdf6"
      },
      "source": []
    },
    {
      "cell_type": "markdown",
      "metadata": {
        "id": "-l9vWb27cmKH"
      },
      "source": [
        "AHORA INTEGRAMOS LANGCHAIN CON WIKI Y PROBAMOS"
      ]
    },
    {
      "cell_type": "code",
      "execution_count": 3,
      "metadata": {
        "colab": {
          "base_uri": "https://localhost:8080/"
        },
        "id": "iXS3LQ21deFF",
        "outputId": "e7bee3c7-9ccb-4ed4-eca4-2eb692c88e06"
      },
      "outputs": [
        {
          "name": "stdout",
          "output_type": "stream",
          "text": [
            "Requirement already satisfied: sentence_transformers in d:\\users\\casti\\pinokio\\bin\\miniconda\\lib\\site-packages (2.7.0)\n",
            "Requirement already satisfied: transformers<5.0.0,>=4.34.0 in d:\\users\\casti\\pinokio\\bin\\miniconda\\lib\\site-packages (from sentence_transformers) (4.41.1)\n",
            "Requirement already satisfied: tqdm in d:\\users\\casti\\pinokio\\bin\\miniconda\\lib\\site-packages (from sentence_transformers) (4.65.0)\n",
            "Requirement already satisfied: torch>=1.11.0 in d:\\users\\casti\\pinokio\\bin\\miniconda\\lib\\site-packages (from sentence_transformers) (2.3.0)\n",
            "Requirement already satisfied: numpy in c:\\users\\casti\\appdata\\roaming\\python\\python310\\site-packages (from sentence_transformers) (1.26.3)\n",
            "Requirement already satisfied: scikit-learn in c:\\users\\casti\\appdata\\roaming\\python\\python310\\site-packages (from sentence_transformers) (1.4.0)\n",
            "Requirement already satisfied: scipy in c:\\users\\casti\\appdata\\roaming\\python\\python310\\site-packages (from sentence_transformers) (1.12.0)\n",
            "Requirement already satisfied: huggingface-hub>=0.15.1 in d:\\users\\casti\\pinokio\\bin\\miniconda\\lib\\site-packages (from sentence_transformers) (0.23.2)\n",
            "Requirement already satisfied: Pillow in c:\\users\\casti\\appdata\\roaming\\python\\python310\\site-packages (from sentence_transformers) (10.2.0)\n",
            "Requirement already satisfied: filelock in d:\\users\\casti\\pinokio\\bin\\miniconda\\lib\\site-packages (from huggingface-hub>=0.15.1->sentence_transformers) (3.14.0)\n",
            "Requirement already satisfied: fsspec>=2023.5.0 in d:\\users\\casti\\pinokio\\bin\\miniconda\\lib\\site-packages (from huggingface-hub>=0.15.1->sentence_transformers) (2024.5.0)\n",
            "Requirement already satisfied: packaging>=20.9 in c:\\users\\casti\\appdata\\roaming\\python\\python310\\site-packages (from huggingface-hub>=0.15.1->sentence_transformers) (23.2)\n",
            "Requirement already satisfied: pyyaml>=5.1 in d:\\users\\casti\\pinokio\\bin\\miniconda\\lib\\site-packages (from huggingface-hub>=0.15.1->sentence_transformers) (6.0.1)\n",
            "Requirement already satisfied: requests in c:\\users\\casti\\appdata\\roaming\\python\\python310\\site-packages (from huggingface-hub>=0.15.1->sentence_transformers) (2.31.0)\n",
            "Requirement already satisfied: typing-extensions>=3.7.4.3 in d:\\users\\casti\\pinokio\\bin\\miniconda\\lib\\site-packages (from huggingface-hub>=0.15.1->sentence_transformers) (4.10.0)\n",
            "Requirement already satisfied: sympy in d:\\users\\casti\\pinokio\\bin\\miniconda\\lib\\site-packages (from torch>=1.11.0->sentence_transformers) (1.12)\n",
            "Requirement already satisfied: networkx in d:\\users\\casti\\pinokio\\bin\\miniconda\\lib\\site-packages (from torch>=1.11.0->sentence_transformers) (3.3)\n",
            "Requirement already satisfied: jinja2 in c:\\users\\casti\\appdata\\roaming\\python\\python310\\site-packages (from torch>=1.11.0->sentence_transformers) (3.1.3)\n",
            "Requirement already satisfied: mkl<=2021.4.0,>=2021.1.1 in d:\\users\\casti\\pinokio\\bin\\miniconda\\lib\\site-packages (from torch>=1.11.0->sentence_transformers) (2021.4.0)\n",
            "Requirement already satisfied: colorama in d:\\users\\casti\\pinokio\\bin\\miniconda\\lib\\site-packages (from tqdm->sentence_transformers) (0.4.6)\n",
            "Requirement already satisfied: regex!=2019.12.17 in d:\\users\\casti\\pinokio\\bin\\miniconda\\lib\\site-packages (from transformers<5.0.0,>=4.34.0->sentence_transformers) (2024.5.15)\n",
            "Requirement already satisfied: tokenizers<0.20,>=0.19 in d:\\users\\casti\\pinokio\\bin\\miniconda\\lib\\site-packages (from transformers<5.0.0,>=4.34.0->sentence_transformers) (0.19.1)\n",
            "Requirement already satisfied: safetensors>=0.4.1 in d:\\users\\casti\\pinokio\\bin\\miniconda\\lib\\site-packages (from transformers<5.0.0,>=4.34.0->sentence_transformers) (0.4.3)\n",
            "Requirement already satisfied: joblib>=1.2.0 in c:\\users\\casti\\appdata\\roaming\\python\\python310\\site-packages (from scikit-learn->sentence_transformers) (1.3.2)\n",
            "Requirement already satisfied: threadpoolctl>=2.0.0 in c:\\users\\casti\\appdata\\roaming\\python\\python310\\site-packages (from scikit-learn->sentence_transformers) (3.2.0)\n",
            "Requirement already satisfied: intel-openmp==2021.* in d:\\users\\casti\\pinokio\\bin\\miniconda\\lib\\site-packages (from mkl<=2021.4.0,>=2021.1.1->torch>=1.11.0->sentence_transformers) (2021.4.0)\n",
            "Requirement already satisfied: tbb==2021.* in d:\\users\\casti\\pinokio\\bin\\miniconda\\lib\\site-packages (from mkl<=2021.4.0,>=2021.1.1->torch>=1.11.0->sentence_transformers) (2021.12.0)\n",
            "Requirement already satisfied: MarkupSafe>=2.0 in c:\\users\\casti\\appdata\\roaming\\python\\python310\\site-packages (from jinja2->torch>=1.11.0->sentence_transformers) (2.1.5)\n",
            "Requirement already satisfied: charset-normalizer<4,>=2 in c:\\users\\casti\\appdata\\roaming\\python\\python310\\site-packages (from requests->huggingface-hub>=0.15.1->sentence_transformers) (3.3.2)\n",
            "Requirement already satisfied: idna<4,>=2.5 in c:\\users\\casti\\appdata\\roaming\\python\\python310\\site-packages (from requests->huggingface-hub>=0.15.1->sentence_transformers) (3.6)\n",
            "Requirement already satisfied: urllib3<3,>=1.21.1 in c:\\users\\casti\\appdata\\roaming\\python\\python310\\site-packages (from requests->huggingface-hub>=0.15.1->sentence_transformers) (2.2.0)\n",
            "Requirement already satisfied: certifi>=2017.4.17 in c:\\users\\casti\\appdata\\roaming\\python\\python310\\site-packages (from requests->huggingface-hub>=0.15.1->sentence_transformers) (2024.2.2)\n",
            "Requirement already satisfied: mpmath>=0.19 in d:\\users\\casti\\pinokio\\bin\\miniconda\\lib\\site-packages (from sympy->torch>=1.11.0->sentence_transformers) (1.3.0)\n",
            "Note: you may need to restart the kernel to use updated packages.\n"
          ]
        }
      ],
      "source": [
        "pip install sentence_transformers"
      ]
    },
    {
      "cell_type": "markdown",
      "metadata": {
        "id": "QA-C3lf_esDR"
      },
      "source": [
        "PRUEBA DE API KEY DE HUGGING FACE"
      ]
    },
    {
      "cell_type": "markdown",
      "metadata": {
        "id": "ztVtxmQIAirG"
      },
      "source": [
        "Me funciona muy bien subiendo el .env de GitHub al root de aquí"
      ]
    },
    {
      "cell_type": "code",
      "execution_count": 1,
      "metadata": {
        "colab": {
          "base_uri": "https://localhost:8080/"
        },
        "id": "KdO1rIukertP",
        "outputId": "02542965-9cba-4b42-e207-53ad0cd861ff"
      },
      "outputs": [
        {
          "name": "stderr",
          "output_type": "stream",
          "text": [
            "d:\\Users\\casti\\pinokio\\bin\\miniconda\\lib\\site-packages\\tqdm\\auto.py:21: TqdmWarning: IProgress not found. Please update jupyter and ipywidgets. See https://ipywidgets.readthedocs.io/en/stable/user_install.html\n",
            "  from .autonotebook import tqdm as notebook_tqdm\n"
          ]
        },
        {
          "name": "stdout",
          "output_type": "stream",
          "text": [
            "The token has not been saved to the git credentials helper. Pass `add_to_git_credential=True` in this function directly or `--add-to-git-credential` if using via `huggingface-cli` if you want to set the git credential as well.\n",
            "Token is valid (permission: read).\n",
            "Your token has been saved to C:\\Users\\casti\\.cache\\huggingface\\token\n",
            "Login successful\n",
            "GROQ_API_KEY cargado correctamente\n"
          ]
        }
      ],
      "source": [
        "from dotenv import load_dotenv\n",
        "import os\n",
        "\n",
        "# Cargar las variables de entorno desde el archivo .env\n",
        "load_dotenv()\n",
        "add_to_git_credential=True\n",
        "\n",
        "# Obtener el token de Hugging Face desde las variables de entorno\n",
        "hf_token = os.getenv(\"HUGGING_FACE_API_TOKEN\")\n",
        "if hf_token:\n",
        "    from huggingface_hub import login\n",
        "    login(hf_token)\n",
        "else:\n",
        "    print(\"HUGGING_FACE_API_TOKEN no encontrado en el archivo .env\")\n",
        "\n",
        "# Obtener otras variables de entorno si es necesario\n",
        "groq_api_key = os.getenv(\"GROQ_API_KEY\")\n",
        "if groq_api_key:\n",
        "    print(\"GROQ_API_KEY cargado correctamente\")\n",
        "else:\n",
        "    print(\"GROQ_API_KEY no encontrado en el archivo .env\")\n"
      ]
    },
    {
      "cell_type": "markdown",
      "metadata": {},
      "source": [
        "Todo sale bien, pero si se quiere quitar el aviso en rojo debe ponerse en un .sh o correr en la terminal: git config --global credential.helper store\n"
      ]
    },
    {
      "cell_type": "code",
      "execution_count": 1,
      "metadata": {},
      "outputs": [
        {
          "name": "stderr",
          "output_type": "stream",
          "text": [
            "d:\\Users\\casti\\pinokio\\bin\\miniconda\\lib\\site-packages\\tqdm\\auto.py:21: TqdmWarning: IProgress not found. Please update jupyter and ipywidgets. See https://ipywidgets.readthedocs.io/en/stable/user_install.html\n",
            "  from .autonotebook import tqdm as notebook_tqdm\n"
          ]
        },
        {
          "name": "stdout",
          "output_type": "stream",
          "text": [
            "Token is valid (permission: read).\n",
            "Your token has been saved in your configured git credential helpers (store).\n",
            "Your token has been saved to C:\\Users\\casti\\.cache\\huggingface\\token\n",
            "Login successful\n",
            "HUGGING_FACE_API_TOKEN cargado correctamente\n",
            "GROQ_API_KEY cargado correctamente\n"
          ]
        }
      ],
      "source": [
        "from dotenv import load_dotenv\n",
        "import os\n",
        "\n",
        "# Cargar las variables de entorno desde el archivo .env\n",
        "load_dotenv()\n",
        "\n",
        "# Obtener el token de Hugging Face desde las variables de entorno\n",
        "hf_token = os.getenv(\"HUGGING_FACE_API_TOKEN\")\n",
        "if hf_token:\n",
        "    from huggingface_hub import login\n",
        "    login(token=hf_token, add_to_git_credential=True)  # Agregar el parámetro aquí\n",
        "    print(\"HUGGING_FACE_API_TOKEN cargado correctamente\")\n",
        "else:\n",
        "    print(\"HUGGING_FACE_API_TOKEN no encontrado en el archivo .env\")\n",
        "\n",
        "# Obtener otras variables de entorno si es necesario\n",
        "groq_api_key = os.getenv(\"GROQ_API_KEY\")\n",
        "if groq_api_key:\n",
        "    print(\"GROQ_API_KEY cargado correctamente\")\n",
        "else:\n",
        "    print(\"GROQ_API_KEY no encontrado en el archivo .env\")\n"
      ]
    },
    {
      "cell_type": "markdown",
      "metadata": {
        "id": "u8pg-fC0e56F"
      },
      "source": [
        "AHORA PRUEBA DE CODIGO BUENO\n",
        "Explicación\n",
        "VectorStoreRetriever: Se utiliza para configurar el recuperador basado en el vectorstore.\n",
        "load_qa_chain: Carga una cadena de preguntas y respuestas utilizando el PromptTemplate.\n",
        "RetrievalQA: Se configura con el retriev:\n",
        "D:\\GitHub\\TFM\\Chatbot-con-FastAPI-Streamlit-y-LangChain-1\\documentos_y_matcomplement\\docuentreno\\md\\Cholesterol-Myths-vs-Facts-Spanish.md\n",
        "\n",
        "Pruebo con un pdf pasado a .md de David En PDF\n",
        "\n",
        "RESULTADO: LO CARGA bien, en MD."
      ]
    },
    {
      "cell_type": "markdown",
      "metadata": {},
      "source": [
        "PRUEBA GENERAL CON WIKI Y LANGCHAIN: USAMOS MODELO DE HUGGING FACE GPT2.\n",
        "Creamos una variable para poder cambiar el numero maximo de tokens de entrada y salida si cambiamos el modelo facilmente.\n",
        "\n",
        "Explicación.\n",
        "a) Definir el límite de tokens: Se establece MAX_INPUT_TOKENS para los tokens de entrada y MAX_NEW_TOKENS para los nuevos tokens generados.\n",
        "\n",
        "b) Creamos una función para recortar el contexto: truncate_context recorta el contexto para asegurarse de que no se exceda el límite de tokens.\n",
        "\n",
        "c) Crear el prompt con el contexto recortado: Se asegura de que el prompt total no exceda el límite de tokens permitido por el modelo."
      ]
    },
    {
      "cell_type": "markdown",
      "metadata": {},
      "source": [
        "### Explicación de las funciones de control de tokens\n",
        "\n",
        "Hemos implementado funciones de control de tokens en nuestro código para asegurar que el número total de tokens (entrada más salida) no exceda el límite permitido por el modelo `gpt2`. Aquí está la explicación de las funciones clave que hemos creado y cómo puedes ajustarlas cuando cambies de modelo.\n",
        "\n",
        "#### Función `truncate_context`\n",
        "\n",
        "Esta función se utiliza para recortar el contexto de entrada de modo que el número total de tokens no exceda el límite permitido. Utilizamos el `GPT2Tokenizer` para contar y recortar los tokens.\n",
        "\n",
        "**Parámetros:**\n",
        "- `context`: El texto de contexto que se desea truncar.\n",
        "- `max_tokens`: El número máximo de tokens permitidos para el contexto.\n",
        "\n",
        "**Descripción:**\n",
        "- La función tokeniza el contexto usando `tokenizer.encode`.\n",
        "- Si el número de tokens excede `max_tokens`, se truncan los tokens al límite especificado.\n",
        "- La función devuelve el contexto truncado como texto utilizando `tokenizer.decode`.\n",
        "\n",
        "#### Definición de límites de tokens\n",
        "\n",
        "Hemos definido los límites de tokens de entrada (`MAX_INPUT_TOKENS`) y salida (`MAX_NEW_TOKENS`) para asegurarnos de que el número total de tokens no exceda 1024, el límite para `gpt2`.\n",
        "**Descripción:**\n",
        "- `MAX_INPUT_TOKENS`: El número máximo de tokens permitidos para el contexto de entrada.\n",
        "- `MAX_NEW_TOKENS`: El número máximo de tokens permitidos para la respuesta generada por el modelo.\n",
        "\n",
        "#### Aplicación en el código\n",
        "\n",
        "Utilizamos la función `truncate_context` para recortar el contexto antes de crear el prompt y enviar la solicitud al modelo.\n",
        "\n",
        "### Ajustes para cambiar de modelo\n",
        "\n",
        "Cuando se cambie de modelo, necesitaremos ajustar los límites de tokens (`MAX_INPUT_TOKENS` y `MAX_NEW_TOKENS`) según las especificaciones del nuevo modelo. La mayoría de los modelos tienen documentación que indica el límite máximo de tokens que pueden manejar. Por ejemplo, si cambia a un modelo con un límite de 2048 tokens, podrías ajustar los límites de la siguiente manera:\n",
        "\n",
        "```python\n",
        "MAX_INPUT_TOKENS = 1948  # Ajustar según el nuevo límite\n",
        "MAX_NEW_TOKENS = 100\n",
        "```\n",
        "\n",
        "Asegurarse de revisar la documentación del nuevo modelo para conocer el límite exacto de tokens y ajustar las variables en consecuencia.\n"
      ]
    },
    {
      "cell_type": "code",
      "execution_count": 1,
      "metadata": {},
      "outputs": [
        {
          "name": "stderr",
          "output_type": "stream",
          "text": [
            "d:\\Users\\casti\\pinokio\\bin\\miniconda\\lib\\site-packages\\tqdm\\auto.py:21: TqdmWarning: IProgress not found. Please update jupyter and ipywidgets. See https://ipywidgets.readthedocs.io/en/stable/user_install.html\n",
            "  from .autonotebook import tqdm as notebook_tqdm\n"
          ]
        },
        {
          "name": "stdout",
          "output_type": "stream",
          "text": [
            "Resultado para 'Diabetes':\n",
            "Diabetes mellitus, often known simply as diabetes, is a group of common endocrine diseases characterized by sustained high blood sugar levels. Diabetes is due to either the pancreas not producing enough insulin, or the cells of the body becoming unresponsive to the hormone's effects. Classic symptoms include thirst, polyuria, weight loss, and blurred vision. If left untreated, the disease can lead to various health complications, including disorders of the cardiovascular system, eye, kidney, and nerves. Untreated or poorly treated diabetes accounts for approximately 1.5 million deaths every year.\n",
            "The major types of diabetes are type 1 and type 2. The most common treatment for type 1 is insulin replacement therapy (insulin injections), while anti-diabetic medications (such as metformin and semaglutide) and lifestyle modifications can be used to manage type 2. Gestational diabetes, a form that arises during pregnancy in some women, normally resolves shortly after delivery.\n",
            "As of 2021, an estimated 537 million people had diabetes worldwide accounting for 10.5% of the adult population, with type 2 making up about 90% of all cases. It is estimated that by 2045, approximately 783 million adults, or 1 in 8, will be living with diabetes, representing a 46% increase from the current figures. The prevalence of the disease continues to increase, most dramatically in low- and middle-income nations. Rates are similar in women and men, with diabetes being the seventh leading cause of death globally. The global expenditure on diabetes-related healthcare is an estimated US$760 billion a year.\n",
            "\n",
            "Resultado para 'Hemocromatosis':\n",
            "No se encontró la página para la consulta: Hemocromatosis\n",
            "\n",
            "Resultado para 'Cáncer':\n",
            "No se encontró la página para la consulta: Cáncer\n",
            "\n",
            "Resultado para 'Hipertensión':\n",
            "No se encontró la página para la consulta: Hipertensión\n",
            "\n"
          ]
        },
        {
          "name": "stderr",
          "output_type": "stream",
          "text": [
            "d:\\Users\\casti\\pinokio\\bin\\miniconda\\lib\\site-packages\\huggingface_hub\\file_download.py:157: UserWarning: `huggingface_hub` cache-system uses symlinks by default to efficiently store duplicated files but your machine does not support them in C:\\Users\\casti\\.cache\\huggingface\\hub\\models--sentence-transformers--all-MiniLM-L6-v2. Caching files will still work but in a degraded version that might require more space on your disk. This warning can be disabled by setting the `HF_HUB_DISABLE_SYMLINKS_WARNING` environment variable. For more details, see https://huggingface.co/docs/huggingface_hub/how-to-cache#limitations.\n",
            "To support symlinks on Windows, you either need to activate Developer Mode or to run Python as an administrator. In order to see activate developer mode, see this article: https://docs.microsoft.com/en-us/windows/apps/get-started/enable-your-device-for-development\n",
            "  warnings.warn(message)\n",
            "d:\\Users\\casti\\pinokio\\bin\\miniconda\\lib\\site-packages\\huggingface_hub\\file_download.py:1132: FutureWarning: `resume_download` is deprecated and will be removed in version 1.0.0. Downloads always resume when possible. If you want to force a new download, use `force_download=True`.\n",
            "  warnings.warn(\n",
            "d:\\Users\\casti\\pinokio\\bin\\miniconda\\lib\\site-packages\\langchain_core\\_api\\deprecation.py:119: LangChainDeprecationWarning: The class `HuggingFaceHub` was deprecated in LangChain 0.0.21 and will be removed in 0.3.0. Use HuggingFaceEndpoint instead.\n",
            "  warn_deprecated(\n",
            "d:\\Users\\casti\\pinokio\\bin\\miniconda\\lib\\site-packages\\langchain_core\\_api\\deprecation.py:119: LangChainDeprecationWarning: The class `RetrievalQA` was deprecated in LangChain 0.1.17 and will be removed in 0.3.0. Use create_retrieval_chain instead.\n",
            "  warn_deprecated(\n",
            "Token indices sequence length is longer than the specified maximum sequence length for this model (2310 > 1024). Running this sequence through the model will result in indexing errors\n",
            "d:\\Users\\casti\\pinokio\\bin\\miniconda\\lib\\site-packages\\langchain_core\\_api\\deprecation.py:119: LangChainDeprecationWarning: The method `BaseLLM.__call__` was deprecated in langchain-core 0.1.7 and will be removed in 0.3.0. Use invoke instead.\n",
            "  warn_deprecated(\n"
          ]
        },
        {
          "name": "stdout",
          "output_type": "stream",
          "text": [
            "QA Result:\n",
            " Responde la pregunta basándote en el siguiente contexto: ﻿<a name=\"br1\"></a> \n",
            "\n",
            "COLESTEROL: MITOS Y VERDADES\n",
            "\n",
            "Mito: Sólo necesitará analizar sus niveles de colesterol cuando tenga más de 30 años.\n",
            "\n",
            "Verdad: La Asociación Americana del Corazón (AHA) recomienda analizar los niveles de colesterol\n",
            "\n",
            "una vez entre los 9 y 11 años, y de nuevo entre los 17 y 21 años para niños y adultos jóvenes sin otros\n",
            "\n",
            "factores de riesgos o un historial familiar de enfermedad cardíaca temprana. Después de los 20 factores de riesgos o un historial familiar de enfermedad cardíaca temprana. Después de los 20\n",
            "\n",
            "años, su doctor volverá a analizar su colesterol y otros factores de riesgo cada cuatro a seis años\n",
            "\n",
            "siempre y cuando su riesgo se mantenga bajo.\n",
            "\n",
            "Mito: Sólo la gente con sobrepeso u obesidad tiene colesterol alto.\n",
            "\n",
            "Verdad: Las personas con cualquier tipo de cuerpo pueden tener colesterol alto. Tener sobrepeso Verdad: Las personas con cualquier tipo de cuerpo pueden tener colesterol alto. Tener sobrepeso\n",
            "\n",
            "u obesidad aumenta sus probabilidades de tener colesterol alto, pero ser delgado no lo protege.\n",
            "\n",
            "Independientemente de su peso, dieta y nivel de actividad física, debería medir su nivel de\n",
            "\n",
            "colesterol con regularidad.\n",
            "\n",
            "Mito: Tener colesterol alto es un problema sólo de los hombres.\n",
            "\n",
            "Verdad: Aunque la ateroesclerosis generalmente ocurre a una mayor edad en las mujeres que Verdad: Aunque la ateroesclerosis generalmente ocurre a una mayor edad en las mujeres que\n",
            "\n",
            "en los hombres, la enfermedad cardiovascular sigue siendo la principal causa de muerte en las\n",
            "\n",
            "mujeres. Los médicos deben considerar condiciones medicas especiﬁcas de mujeres, tales como\n",
            "\n",
            "menopausia prematura (antes de los 40 años) y condiciones asociadas al embarazo, cuando les\n",
            "\n",
            "hablen sobre sus niveles de colesterol y las opciones para su tratamiento. hablen sobre sus niveles de colesterol y las opciones para su tratamiento.\n",
            "\n",
            "Mito: Si su médico no ha mencionado sus niveles de colesterol, usted está bien.\n",
            "\n",
            "Verdad: Usted puede hacerse cargo de su salud. Si usted tiene 20 años o más, pídale a su médico\n",
            "\n",
            "que le realice un análisis de colesterol, que evalúe sus factores de riesgo y que determine su riesgo\n",
            "\n",
            "de tener un ataque al corazón o un derrame cerebral. Si tiene entre 20 y 39 años, su médico debería evaluar su ries\n",
            "Pregunta: ¿Cuál es el tema principal del documento?\n",
            "\n",
            "Tener la documento?\n",
            "\n",
            "Mito: Sólo se pontificación de la mancha del diario que\n",
            "\n",
            "tenir el documento o su huevas con una mancha de realidad.\n",
            "\n",
            "Verdad: El documento del documento de la mancha del diario.\n",
            "\n",
            "Verdad: El documento del documento de la mancha del diario.\n",
            "\n",
            "a entre están con el documento de la\n"
          ]
        }
      ],
      "source": [
        "import wikipediaapi\n",
        "from langchain_community.document_loaders import TextLoader\n",
        "from langchain.text_splitter import RecursiveCharacterTextSplitter\n",
        "from langchain.vectorstores import FAISS\n",
        "from langchain.embeddings import HuggingFaceEmbeddings\n",
        "from langchain.prompts import PromptTemplate\n",
        "from langchain.chains import RetrievalQA\n",
        "from langchain.chains.question_answering import load_qa_chain\n",
        "from langchain.llms import HuggingFaceHub\n",
        "from dotenv import load_dotenv\n",
        "import os\n",
        "import requests\n",
        "from transformers import GPT2Tokenizer\n",
        "\n",
        "# Cargar las variables de entorno desde el archivo .env\n",
        "load_dotenv()\n",
        "\n",
        "# Usar root como base del GitHub\n",
        "root = \"https://github.com/davidfdezmartin/Chatbot-con-FastAPI-Streamlit-y-LangChain/blob/main\"\n",
        "\n",
        "# Verificar y obtener el token de Hugging Face desde las variables de entorno\n",
        "hf_token = os.getenv(\"HUGGING_FACE_API_TOKEN\")\n",
        "if not hf_token:\n",
        "    raise ValueError(\"HUGGING_FACE_API_TOKEN no encontrado en el archivo .env\")\n",
        "\n",
        "# Configuración de la API de Wikipedia con agente de usuario\n",
        "user_agent = 'MyApp/1.0 (example@example.com)'\n",
        "wiki_wiki = wikipediaapi.Wikipedia('es', headers={'User-Agent': user_agent})\n",
        "\n",
        "def get_wikipedia_summary(query):\n",
        "    page = wiki_wiki.page(query)\n",
        "    if page.exists():\n",
        "        return page.summary\n",
        "    else:\n",
        "        return \"No se encontró la página para la consulta: \" + query\n",
        "\n",
        "# Ejemplo de uso con varios términos en español\n",
        "queries = [\"Diabetes\", \"Hemocromatosis\", \"Cáncer\", \"Hipertensión\"]\n",
        "for query in queries:\n",
        "    result = get_wikipedia_summary(query)\n",
        "    print(f\"Resultado para '{query}':\\n{result}\\n\")\n",
        "\n",
        "# URL del archivo en GitHub\n",
        "file_url = f\"{root}/documentos_y_matcomplement/docuentreno/md/Cholesterol-Myths-vs-Facts-Spanish.md?raw=true\"\n",
        "\n",
        "# Descargar el contenido del archivo\n",
        "response = requests.get(file_url)\n",
        "if response.status_code != 200:\n",
        "    raise RuntimeError(f\"Error al descargar el archivo desde {file_url}\")\n",
        "\n",
        "# Guardar el contenido en un archivo temporal\n",
        "with open(\"temp.md\", \"w\", encoding=\"utf-8\") as temp_file:\n",
        "    temp_file.write(response.text)\n",
        "\n",
        "# Cargar el documento .md desde el archivo temporal\n",
        "text_loader = TextLoader(\"temp.md\")\n",
        "documents = text_loader.load()\n",
        "\n",
        "# Dividir texto\n",
        "text_splitter = RecursiveCharacterTextSplitter(chunk_size=500, chunk_overlap=100)  # Reducir el tamaño del fragmento\n",
        "texts = text_splitter.split_documents(documents)\n",
        "\n",
        "# Crear embeddings\n",
        "embeddings = HuggingFaceEmbeddings(model_name=\"sentence-transformers/all-MiniLM-L6-v2\")\n",
        "vectorstore = FAISS.from_documents(texts, embeddings)\n",
        "\n",
        "# Crear el prompt con variables de entrada especificadas\n",
        "prompt_template = PromptTemplate(\n",
        "    template=\"Responde la pregunta basándote en el siguiente contexto: {context}\\nPregunta: {question}\",\n",
        "    input_variables=[\"context\", \"question\"]\n",
        ")\n",
        "\n",
        "# Definir el límite de tokens\n",
        "MAX_INPUT_TOKENS = 824  # Ajustar según sea necesario\n",
        "MAX_NEW_TOKENS = 100\n",
        "TOTAL_TOKENS = MAX_INPUT_TOKENS + MAX_NEW_TOKENS\n",
        "\n",
        "# Inicializar el tokenizer de GPT-2\n",
        "tokenizer = GPT2Tokenizer.from_pretrained(\"gpt2\")\n",
        "\n",
        "# Función para recortar el contexto si es necesario\n",
        "def truncate_context(context, max_tokens):\n",
        "    tokens = tokenizer.encode(context)\n",
        "    if len(tokens) > max_tokens:\n",
        "        tokens = tokens[:max_tokens]\n",
        "        return tokenizer.decode(tokens, clean_up_tokenization_spaces=True)\n",
        "    return context\n",
        "\n",
        "# Crear la cadena de preguntas y respuestas\n",
        "llm = HuggingFaceHub(repo_id=\"gpt2\", model_kwargs={\"temperature\": 0.7}, huggingfacehub_api_token=hf_token)\n",
        "qa_chain = load_qa_chain(llm, chain_type=\"stuff\")\n",
        "\n",
        "# Crear el retrieval QA chain utilizando el vectorstore y la cadena de QA\n",
        "retrieval_qa = RetrievalQA(\n",
        "    retriever=vectorstore.as_retriever(),\n",
        "    combine_documents_chain=qa_chain\n",
        ")\n",
        "\n",
        "# Ejemplo de uso de la cadena de preguntas y respuestas con control de longitud de tokens\n",
        "question = \"¿Cuál es el tema principal del documento?\"\n",
        "\n",
        "# Obtener el contexto\n",
        "context = \" \".join([doc.page_content for doc in texts])\n",
        "context = truncate_context(context, MAX_INPUT_TOKENS)\n",
        "\n",
        "# Crear el prompt con el contexto recortado\n",
        "prompt = prompt_template.format(context=context, question=question)\n",
        "\n",
        "# Generar la respuesta utilizando el modelo de lenguaje\n",
        "result = llm(prompt, max_new_tokens=MAX_NEW_TOKENS)\n",
        "\n",
        "print(\"QA Result:\\n\", result)\n"
      ]
    },
    {
      "cell_type": "code",
      "execution_count": null,
      "metadata": {},
      "outputs": [],
      "source": []
    },
    {
      "cell_type": "markdown",
      "metadata": {},
      "source": [
        "esto saltar hasta que vaya el emmbeding"
      ]
    },
    {
      "cell_type": "code",
      "execution_count": null,
      "metadata": {
        "colab": {
          "base_uri": "https://localhost:8080/",
          "height": 216
        },
        "id": "PXxZNfk41QeH",
        "outputId": "6b1fd0db-5df7-4edc-85e0-e7cf8cb3367f"
      },
      "outputs": [],
      "source": [
        "## Read the ppdfs from the folder\n",
        "loader=PyPDFDirectoryLoader(f,{root}/\"documentos_y_matcomplement/docuentreno/pdf\")\n",
        "\n",
        "documents=loader.load()\n",
        "\n",
        "text_splitter=RecursiveCharacterTextSplitter(chunk_size=1000,chunk_overlap=200)\n",
        "\n",
        "final_documents=text_splitter.split_documents(documents)\n",
        "final_documents[0]"
      ]
    },
    {
      "cell_type": "markdown",
      "metadata": {},
      "source": [
        "Hago una prueba del texto que responde y su formato"
      ]
    },
    {
      "cell_type": "markdown",
      "metadata": {},
      "source": [
        "codigo aislado de la respuesta de un solo documento (el anterior en md)"
      ]
    },
    {
      "cell_type": "code",
      "execution_count": null,
      "metadata": {},
      "outputs": [
        {
          "name": "stdout",
          "output_type": "stream",
          "text": [
            "Root de GitHub: https://raw.githubusercontent.com/davidfdezmartin/Chatbot-con-FastAPI-Streamlit-y-LangChain/main\n",
            "URL del archivo: https://raw.githubusercontent.com/davidfdezmartin/Chatbot-con-FastAPI-Streamlit-y-LangChain/main/documentos_y_matcomplement/docuentreno/md/Cholesterol-Myths-vs-Facts-Spanish.md\n",
            "Contenido del documento: [Document(page_content='\\ufeff<a name=\"br1\"></a> \\n\\nCOLESTEROL: MITOS Y VERDADES\\n\\nMito: Sólo necesitará analizar sus niveles de colesterol cuando tenga más de 30 años.\\n\\nVerdad: La Asociación Americana del Corazón (AHA) recomienda analizar los niveles de colesterol\\n\\nuna vez entre los 9 y 11 años, y de nuevo entre los 17 y 21 años para niños y adultos jóvenes sin otros\\n\\nfactores de riesgos o un historial familiar de enfermedad cardíaca temprana. Después de los 20\\n\\naños, su doctor volverá a analizar su colesterol y otros factores de riesgo cada cuatro a seis años\\n\\nsiempre y cuando su riesgo se mantenga bajo.\\n\\nMito: Sólo la gente con sobrepeso u obesidad tiene colesterol alto.\\n\\nVerdad: Las personas con cualquier tipo de cuerpo pueden tener colesterol alto. Tener sobrepeso\\n\\nu obesidad aumenta sus probabilidades de tener colesterol alto, pero ser delgado no lo protege.\\n\\nIndependientemente de su peso, dieta y nivel de actividad física, debería medir su nivel de\\n\\ncolesterol con regularidad.\\n\\nMito: Tener colesterol alto es un problema sólo de los hombres.\\n\\nVerdad: Aunque la ateroesclerosis generalmente ocurre a una mayor edad en las mujeres que\\n\\nen los hombres, la enfermedad cardiovascular sigue siendo la principal causa de muerte en las\\n\\nmujeres. Los médicos deben considerar condiciones medicas especiﬁcas de mujeres, tales como\\n\\nmenopausia prematura (antes de los 40 años) y condiciones asociadas al embarazo, cuando les\\n\\nhablen sobre sus niveles de colesterol y las opciones para su tratamiento.\\n\\nMito: Si su médico no ha mencionado sus niveles de colesterol, usted está bien.\\n\\nVerdad: Usted puede hacerse cargo de su salud. Si usted tiene 20 años o más, pídale a su médico\\n\\nque le realice un análisis de colesterol, que evalúe sus factores de riesgo y que determine su riesgo\\n\\nde tener un ataque al corazón o un derrame cerebral. Si tiene entre 20 y 39 años, su médico debería\\n\\nevaluar su riesgo para toda la vida. Si tiene entre 40 y 75 años, pídale a su médico que evalúe su\\n\\nriesgo a 10 años. Si sus riesgos son altos, un cambio en su estilo de vida y medicamento de estatina\\n\\npodrían ayudar a controlar el riesgo.\\n\\nMito: Su nivel de colesterol es consecuencia de su dieta y su nivel de actividad física.\\n\\nVerdad: Es verdad, la dieta y la actividad física afectan su nivel de colesterol, pero no son los únicos\\n\\nfactores. Envejecer y tener sobrepeso u obesidad también son cosas que pueden afectar su nivel\\n\\nde colesterol. Algunas personas nacen con niveles de colesterol altos que heredaron de sus padres.\\n\\nCualquiera sea el caso, es muy importante seguir una dieta saludable para el corazón y hacer\\n\\nabundante cantidad de actividad física de intensidad moderada para reducir su riesgo de tener un\\n\\nataque al corazón o un derrama cerebral.\\n\\nPuede obtener más información sobre el colesterol en [heart.org/Cholesterol](http://www.heart.org/Cholesterol)\\n\\n\\n\\n<a name=\"br2\"></a> \\n\\nCOLESTEROL: MITOS Y VERDADES\\n\\nMito: Si toma medicamentos para bajar el colesterol, no necesita hacer cambios en su dieta ni en\\n\\nsu estilo de vida.\\n\\nVerdad: Es importante que tome sus medicamentos exactamente como le indiquen. Pero las mejores\\n\\nmaneras de reducir su riesgo de tener una enfermedad cardíaca o un derrame cerebral son seguir una\\n\\ndieta saludable para el corazón e incluir actividad física regular en su rutina semanal. Haga actividad\\n\\naeróbica de moderada a intensa por al menos 150 minutos a la semana o actividad vigorosa por 75\\n\\nminutos a la semana, o una combinación de ambas, de preferencia esparcidas durante la semana.\\n\\nMito: Si la etiqueta de nutrición no muestra colesterol, el alimento es saludable para el corazón.\\n\\nVerdad: Muchos alimentos que “no tienen colesterol” o incluso que son “bajos en grasa” tienen un\\n\\nalto contenido de otros tipos de grasas “malas”, como las grasas saturadas y grasas trans. Asegúrese\\n\\nde revisar la etiqueta de los alimentos para ver si tienen grasa saturada y grasa trans, y ver el total\\n\\nde calorías. Además, tenga en cuenta que la porción en que se basan esos números puede ser menor\\n\\nque el contenido completo del envase. (Es decir, puede que el envase incluya más de una porción).\\n\\nMito: Cambiar la mantequilla por margarina me ayudará a bajar el colesterol.\\n\\nVerdad: No necesariamente. La mantequilla es alta en grasa saturada, pero algunos tipos de\\n\\nmargarinas tienen incluso un contenido mayor de ambos tipos de grasas. Las margarinas líquidas\\n\\ny las margarinas untables que vienen en pomo tienden a tener menos grasas “malas”. Compare\\n\\netiquetas y elija la que tenga 0 gramos de grasa trans en los Datos de Nutrición y nada de aceites\\n\\nhidrogenados en los ingredientes.\\n\\nMito: Los niños no necesitan preocuparse por el colesterol.\\n\\nVerdad: Los niños pueden tener niveles de colesterol altos, igual que los adultos. Esto es\\n\\nparticularmente cierto para aquellos niños que heredan los niveles de colesterol altos de su madre,\\n\\nsu padre o ambos. Es una afección que se llama hipercolesterolemia familiar (HF). Estos niños tienen\\n\\nun alto riesgo de tener un ataque al corazón o un derrame cerebral a edad temprana. Un pronto\\n\\ndiagnóstico y tratamiento son esenciales en estos casos.\\n\\nPuede obtener más información sobre el colesterol en [heart.org/Cholesterol](http://www.heart.org/Cholesterol)\\n\\n© Derechos de autor 2020 American Heart Association, Inc., una organización sin ﬁnes de lucro 501(c)(3). Todos los derechos\\n\\nreservados. Check. Change. Control. Choleterol es una marca registrada de la AHA. Se prohíbe el uso no autorizado.\\n\\nDS16576 9/20\\n\\n', metadata={'source': 'temp.md'})]\n"
          ]
        }
      ],
      "source": [
        "import requests\n",
        "from langchain_community.document_loaders import TextLoader\n",
        "\n",
        "# Definir root como la URL base de GitHub raw content\n",
        "root = \"https://raw.githubusercontent.com/davidfdezmartin/Chatbot-con-FastAPI-Streamlit-y-LangChain/main\"\n",
        "\n",
        "print(\"Root de GitHub:\", root)\n",
        "\n",
        "# URL del archivo en GitHub\n",
        "file_path = f\"{root}/documentos_y_matcomplement/docuentreno/md/Cholesterol-Myths-vs-Facts-Spanish.md\"\n",
        "print(\"URL del archivo:\", file_path)\n",
        "\n",
        "# Descargar el contenido del archivo\n",
        "response = requests.get(file_path)\n",
        "if response.status_code != 200:\n",
        "    raise RuntimeError(f\"Error al descargar el archivo desde {file_path}\")\n",
        "\n",
        "# Guardar el contenido en un archivo temporal\n",
        "with open(\"temp.md\", \"w\", encoding=\"utf-8\") as temp_file:\n",
        "    temp_file.write(response.text)\n",
        "\n",
        "# Cargar el documento .md desde el archivo temporal\n",
        "text_loader = TextLoader(\"temp.md\")\n",
        "documents = text_loader.load()\n",
        "print(\"Contenido del documento:\", documents)\n"
      ]
    },
    {
      "cell_type": "markdown",
      "metadata": {},
      "source": [
        "JUEVES 29/MAYO\n",
        "ESTE CODIGO CLON DEL ANTERIOR USAN .ENV Y ROOT PARA ACORTAR DONDE APUNTAN LOS PROGRAMAS\n",
        "\n",
        "Explicación de las mejoras\n",
        "Uso de os.getenv(\"ROOT\") para obtener la URL base del repositorio desde el archivo .env.\n",
        "Construcción de la URL del archivo con os.path.join para asegurar compatibilidad con diferentes sistemas operativos.\n",
        "\n",
        "Este enfoque mantiene el código limpio y permite a cualquiera usar el notebook sin depender de rutas específicas del sistema local.\n",
        "\n",
        "# Celda 1:Definir y Limpiar los Documentos\n",
        "\n",
        "Este código descarga un archivo desde GitHub, lo guarda temporalmente, lo carga y limpia su contenido eliminando caracteres especiales y etiquetas HTML innecesarias."
      ]
    },
    {
      "cell_type": "code",
      "execution_count": 24,
      "metadata": {},
      "outputs": [
        {
          "name": "stdout",
          "output_type": "stream",
          "text": [
            "Root de GitHub: https://raw.githubusercontent.com/davidfdezmartin/Chatbot-con-FastAPI-Streamlit-y-LangChain/main\n",
            "Resultado para 'Diabetes':\n",
            "Diabetes mellitus, often known simply as diabetes, is a group of common endocrine diseases characterized by sustained high blood sugar levels. Diabetes is due to either the pancreas not producing enough insulin, or the cells of the body becoming unresponsive to the hormone's effects. Classic symptoms include thirst, polyuria, weight loss, and blurred vision. If left untreated, the disease can lead to various health complications, including disorders of the cardiovascular system, eye, kidney, and nerves. Untreated or poorly treated diabetes accounts for approximately 1.5 million deaths every year.\n",
            "The major types of diabetes are type 1 and type 2. The most common treatment for type 1 is insulin replacement therapy (insulin injections), while anti-diabetic medications (such as metformin and semaglutide) and lifestyle modifications can be used to manage type 2. Gestational diabetes, a form that arises during pregnancy in some women, normally resolves shortly after delivery.\n",
            "As of 2021, an estimated 537 million people had diabetes worldwide accounting for 10.5% of the adult population, with type 2 making up about 90% of all cases. It is estimated that by 2045, approximately 783 million adults, or 1 in 8, will be living with diabetes, representing a 46% increase from the current figures. The prevalence of the disease continues to increase, most dramatically in low- and middle-income nations. Rates are similar in women and men, with diabetes being the seventh leading cause of death globally. The global expenditure on diabetes-related healthcare is an estimated US$760 billion a year.\n",
            "\n",
            "Resultado para 'Hemocromatosis':\n",
            "No se encontró la página para la consulta: Hemocromatosis\n",
            "\n",
            "Resultado para 'Cáncer':\n",
            "No se encontró la página para la consulta: Cáncer\n",
            "\n",
            "Resultado para 'Hipertensión':\n",
            "No se encontró la página para la consulta: Hipertensión\n",
            "\n",
            "URL del archivo: https://raw.githubusercontent.com/davidfdezmartin/Chatbot-con-FastAPI-Streamlit-y-LangChain/main/documentos_y_matcomplement/docuentreno/md/Cholesterol-Myths-vs-Facts-Spanish.md\n"
          ]
        },
        {
          "name": "stderr",
          "output_type": "stream",
          "text": [
            "d:\\Users\\casti\\pinokio\\bin\\miniconda\\lib\\site-packages\\huggingface_hub\\file_download.py:1132: FutureWarning: `resume_download` is deprecated and will be removed in version 1.0.0. Downloads always resume when possible. If you want to force a new download, use `force_download=True`.\n",
            "  warnings.warn(\n",
            "Token indices sequence length is longer than the specified maximum sequence length for this model (2310 > 1024). Running this sequence through the model will result in indexing errors\n"
          ]
        },
        {
          "name": "stdout",
          "output_type": "stream",
          "text": [
            "QA Result:\n",
            " Responde la pregunta basándote en el siguiente contexto: ﻿<a name=\"br1\"></a> \n",
            "\n",
            "COLESTEROL: MITOS Y VERDADES\n",
            "\n",
            "Mito: Sólo necesitará analizar sus niveles de colesterol cuando tenga más de 30 años.\n",
            "\n",
            "Verdad: La Asociación Americana del Corazón (AHA) recomienda analizar los niveles de colesterol\n",
            "\n",
            "una vez entre los 9 y 11 años, y de nuevo entre los 17 y 21 años para niños y adultos jóvenes sin otros\n",
            "\n",
            "factores de riesgos o un historial familiar de enfermedad cardíaca temprana. Después de los 20 factores de riesgos o un historial familiar de enfermedad cardíaca temprana. Después de los 20\n",
            "\n",
            "años, su doctor volverá a analizar su colesterol y otros factores de riesgo cada cuatro a seis años\n",
            "\n",
            "siempre y cuando su riesgo se mantenga bajo.\n",
            "\n",
            "Mito: Sólo la gente con sobrepeso u obesidad tiene colesterol alto.\n",
            "\n",
            "Verdad: Las personas con cualquier tipo de cuerpo pueden tener colesterol alto. Tener sobrepeso Verdad: Las personas con cualquier tipo de cuerpo pueden tener colesterol alto. Tener sobrepeso\n",
            "\n",
            "u obesidad aumenta sus probabilidades de tener colesterol alto, pero ser delgado no lo protege.\n",
            "\n",
            "Independientemente de su peso, dieta y nivel de actividad física, debería medir su nivel de\n",
            "\n",
            "colesterol con regularidad.\n",
            "\n",
            "Mito: Tener colesterol alto es un problema sólo de los hombres.\n",
            "\n",
            "Verdad: Aunque la ateroesclerosis generalmente ocurre a una mayor edad en las mujeres que Verdad: Aunque la ateroesclerosis generalmente ocurre a una mayor edad en las mujeres que\n",
            "\n",
            "en los hombres, la enfermedad cardiovascular sigue siendo la principal causa de muerte en las\n",
            "\n",
            "mujeres. Los médicos deben considerar condiciones medicas especiﬁcas de mujeres, tales como\n",
            "\n",
            "menopausia prematura (antes de los 40 años) y condiciones asociadas al embarazo, cuando les\n",
            "\n",
            "hablen sobre sus niveles de colesterol y las opciones para su tratamiento. hablen sobre sus niveles de colesterol y las opciones para su tratamiento.\n",
            "\n",
            "Mito: Si su médico no ha mencionado sus niveles de colesterol, usted está bien.\n",
            "\n",
            "Verdad: Usted puede hacerse cargo de su salud. Si usted tiene 20 años o más, pídale a su médico\n",
            "\n",
            "que le realice un análisis de colesterol, que evalúe sus factores de riesgo y que determine su riesgo\n",
            "\n",
            "de tener un ataque al corazón o un derrame cerebral. Si tiene entre 20 y 39 años, su médico debería evaluar su ries\n",
            "Pregunta: ¿Cuál es el tema principal del documento?\n",
            "\n",
            "Tener la documento?\n",
            "\n",
            "Mito: Sólo se pontificación de la mancha del diario que\n",
            "\n",
            "tenir el documento o su huevas con una mancha de realidad.\n",
            "\n",
            "Verdad: El documento del documento de la mancha del diario.\n",
            "\n",
            "Verdad: El documento del documento de la mancha del diario.\n",
            "\n",
            "a entre están con el documento de la\n"
          ]
        }
      ],
      "source": [
        "import wikipediaapi\n",
        "from langchain_community.document_loaders import TextLoader\n",
        "from langchain.text_splitter import RecursiveCharacterTextSplitter\n",
        "from langchain.vectorstores import FAISS\n",
        "from langchain.embeddings import HuggingFaceEmbeddings\n",
        "from langchain.prompts import PromptTemplate\n",
        "from langchain.chains import RetrievalQA\n",
        "from langchain.chains.question_answering import load_qa_chain\n",
        "from langchain.llms import HuggingFaceHub\n",
        "from dotenv import load_dotenv\n",
        "import os\n",
        "import requests\n",
        "from transformers import GPT2Tokenizer\n",
        "\n",
        "# Cargar las variables de entorno desde el archivo .env\n",
        "load_dotenv()\n",
        "\n",
        "# Usar root como base del GitHub\n",
        "root = os.getenv(\"ROOT\")\n",
        "if not root:\n",
        "    raise ValueError(\"ROOT no encontrado en el archivo .env\")\n",
        "\n",
        "print(\"Root de GitHub:\", root)\n",
        "\n",
        "# Verificar y obtener el token de Hugging Face desde las variables de entorno\n",
        "hf_token = os.getenv(\"HUGGING_FACE_API_TOKEN\")\n",
        "if not hf_token:\n",
        "    raise ValueError(\"HUGGING_FACE_API_TOKEN no encontrado en el archivo .env\")\n",
        "\n",
        "# Configuración de la API de Wikipedia con agente de usuario\n",
        "user_agent = 'MyApp/1.0 (example@example.com)'\n",
        "wiki_wiki = wikipediaapi.Wikipedia('es', headers={'User-Agent': user_agent})\n",
        "\n",
        "def get_wikipedia_summary(query):\n",
        "    page = wiki_wiki.page(query)\n",
        "    if page.exists():\n",
        "        return page.summary\n",
        "    else:\n",
        "        return \"No se encontró la página para la consulta: \" + query\n",
        "\n",
        "# Ejemplo de uso con varios términos en español\n",
        "queries = [\"Diabetes\", \"Hemocromatosis\", \"Cáncer\", \"Hipertensión\"]\n",
        "for query in queries:\n",
        "    result = get_wikipedia_summary(query)\n",
        "    print(f\"Resultado para '{query}':\\n{result}\\n\")\n",
        "    \n",
        "    # PRUEBO METER LA VARIABLE ROOT A MANITA SIN EL .env y lo imprimo para verlo\n",
        "    \n",
        "# URL del archivo en GitHub\n",
        "file_path = f\"{root}/documentos_y_matcomplement/docuentreno/md/Cholesterol-Myths-vs-Facts-Spanish.md\"\n",
        "print(\"URL del archivo:\", file_path)\n",
        "\n",
        "# Descargar el contenido del archivo\n",
        "response = requests.get(file_path)\n",
        "if response.status_code != 200:\n",
        "    raise RuntimeError(f\"Error al descargar el archivo desde {file_path}\")\n",
        "\n",
        "# Guardar el contenido en un archivo temporal\n",
        "with open(\"temp.md\", \"w\", encoding=\"utf-8\") as temp_file:\n",
        "    temp_file.write(response.text)\n",
        "\n",
        "# Cargar el documento .md desde el archivo temporal\n",
        "text_loader = TextLoader(\"temp.md\")\n",
        "documents = text_loader.load()\n",
        "# print(\"Contenido del documento:\", documents)\n",
        "\n",
        "\n",
        "\n",
        "# Dividir texto\n",
        "text_splitter = RecursiveCharacterTextSplitter(chunk_size=500, chunk_overlap=100)  # Reducir el tamaño del fragmento\n",
        "texts = text_splitter.split_documents(documents)\n",
        "\n",
        "# Crear embeddings\n",
        "embeddings = HuggingFaceEmbeddings(model_name=\"sentence-transformers/all-MiniLM-L6-v2\")\n",
        "vectorstore = FAISS.from_documents(texts, embeddings)\n",
        "\n",
        "# Crear el prompt con variables de entrada especificadas\n",
        "prompt_template = PromptTemplate(\n",
        "    template=\"Responde la pregunta basándote en el siguiente contexto: {context}\\nPregunta: {question}\",\n",
        "    input_variables=[\"context\", \"question\"]\n",
        ")\n",
        "\n",
        "# Definir el límite de tokens\n",
        "MAX_INPUT_TOKENS = 824  # Ajustar según sea necesario\n",
        "MAX_NEW_TOKENS = 100\n",
        "TOTAL_TOKENS = MAX_INPUT_TOKENS + MAX_NEW_TOKENS\n",
        "\n",
        "# Inicializar el tokenizer de GPT-2\n",
        "tokenizer = GPT2Tokenizer.from_pretrained(\"gpt2\")\n",
        "\n",
        "# Función para recortar el contexto si es necesario\n",
        "def truncate_context(context, max_tokens):\n",
        "    tokens = tokenizer.encode(context)\n",
        "    if len(tokens) > max_tokens:\n",
        "        tokens = tokens[:max_tokens]\n",
        "        return tokenizer.decode(tokens, clean_up_tokenization_spaces=True)\n",
        "    return context\n",
        "\n",
        "# Crear la cadena de preguntas y respuestas\n",
        "llm = HuggingFaceHub(repo_id=\"gpt2\", model_kwargs={\"temperature\": 0.7}, huggingfacehub_api_token=hf_token)\n",
        "qa_chain = load_qa_chain(llm, chain_type=\"stuff\")\n",
        "\n",
        "# Crear el retrieval QA chain utilizando el vectorstore y la cadena de QA\n",
        "retrieval_qa = RetrievalQA(\n",
        "    retriever=vectorstore.as_retriever(),\n",
        "    combine_documents_chain=qa_chain\n",
        ")\n",
        "\n",
        "# Ejemplo de uso de la cadena de preguntas y respuestas con control de longitud de tokens\n",
        "question = \"¿Cuál es el tema principal del documento?\"\n",
        "\n",
        "# Obtener el contexto\n",
        "context = \" \".join([doc.page_content for doc in texts])\n",
        "context = truncate_context(context, MAX_INPUT_TOKENS)\n",
        "\n",
        "# Crear el prompt con el contexto recortado\n",
        "prompt = prompt_template.format(context=context, question=question)\n",
        "\n",
        "# Generar la respuesta utilizando el modelo de lenguaje\n",
        "result = llm(prompt, max_new_tokens=MAX_NEW_TOKENS)\n",
        "\n",
        "print(\"QA Result:\\n\", result)\n"
      ]
    },
    {
      "cell_type": "markdown",
      "metadata": {},
      "source": [
        "# Pasos adicionales que acabo de  seguir:\n",
        "\n",
        "Eliminar caracteres especiales no deseados.\n",
        "Asegurarte de que el contexto no se corte a mitad de una frase o sección importante.\n",
        "\n",
        "## Explicación\n",
        "**Función clean_text**: Se crea una función para eliminar caracteres especiales no deseados y limpiar el contenido del documento.\n",
        "Aplicar limpieza al contenido: Se aplica la función clean_text a cada documento cargado para asegurar que el contenido sea claro y esté bien formateado.\n",
        "Imprimir el contenido limpio: Se imprime el contenido limpio del documento para verificar el resultado.\n",
        "Se revisa para que no de una salida como la de la celda anterior.\n",
        "\n",
        "## LO ACABO DE SUBIR BIEN EXPLICADO EN MD AL GITHUB\n",
        "https://raw.githubusercontent.com/davidfdezmartin/Chatbot-con-FastAPI-Streamlit-y-LangChain/main/documentos_y_matcomplement/Presentacion/29%2005%20tfm%20limpiar%20salida%20y%20caragr%20de%20github.md"
      ]
    },
    {
      "cell_type": "markdown",
      "metadata": {},
      "source": [
        "Aquí haciamos una prueba con un vectorizador de Hugging Face un modelo pequeño: BAAI/bge-small-en-v1.5"
      ]
    },
    {
      "cell_type": "markdown",
      "metadata": {},
      "source": [
        "### Celda 2: Crear los Embeddings\n",
        "\n",
        "# Crear los Embeddings\n",
        "\n",
        "Este código inicializa un modelo de embeddings utilizando `HuggingFaceEmbeddings`, genera embeddings para cada documento limpio y los imprime para su análisis."
      ]
    },
    {
      "cell_type": "code",
      "execution_count": 30,
      "metadata": {},
      "outputs": [
        {
          "name": "stdout",
          "output_type": "stream",
          "text": [
            "Embeddings del documento 1: [[0.006454624235630035, -0.024622324854135513, 0.02791258506476879, -0.003843842539936304, 0.017961403355002403, -0.02698516845703125, 0.03887294605374336, 0.015038227662444115, -0.05206865817308426, -0.10043297708034515, -0.019520960748195648, -0.05342983454465866, -0.033275384455919266, -0.020517688244581223, 0.03118455782532692, -0.054445914924144745, 0.015190445818006992, 0.017293337732553482, -0.07992972433567047, 0.01815580390393734, 0.05100220814347267, 0.0016113464953377843, -0.0034621753729879856, -0.03114328533411026, 0.007098376285284758, -0.0158835481852293, 0.007994985207915306, -0.004058383405208588, -0.031081916764378548, -0.11827611178159714, -0.02185015007853508, -0.03272420912981033, 0.04569700360298157, -0.06815893948078156, -0.026118846610188484, -0.008991883136332035, 0.002970912028104067, 0.023290090262889862, 0.0283779576420784, 0.018596313893795013, 0.05692153796553612, 0.05050521343946457, 0.003344488563016057, 0.004964482970535755, 0.054622896015644073, -0.0691622868180275, -0.08162567764520645, -0.05151126906275749, -0.00034875908750109375, 0.024355599656701088, -0.0176036786288023, 0.025308314710855484, -0.03690759465098381, 0.040402621030807495, 0.029991822317242622, -0.0027671989519149065, 0.01130676083266735, 0.004281932488083839, 0.02287929318845272, 0.046935100108385086, 0.046188630163669586, 0.05418917164206505, -0.16400060057640076, 0.0038786386139690876, 0.005760422442108393, 0.019829461351037025, 0.008647628128528595, -0.008699437603354454, -0.041154131293296814, -0.016524601727724075, 0.03373091295361519, -0.02199379727244377, 0.03219232335686684, 0.06986422836780548, -0.0009540961473248899, 0.03007519617676735, -0.021389849483966827, -0.10149434208869934, -0.016632482409477234, 0.020044028759002686, 0.0012955685378983617, 0.05287374183535576, 0.0025141991209238768, -0.03384025767445564, 0.001233162940479815, -0.01624366082251072, 0.01429024152457714, -0.03873119875788689, -0.0408448688685894, -0.018154071643948555, -0.0686635971069336, -0.011269446462392807, 0.02023596502840519, 0.018362456932663918, -0.01534730289131403, -0.050013620406389236, -0.05067059397697449, 0.01330125704407692, -0.06088900938630104, 0.3611494302749634, -0.0031894890125840902, 0.0201478973031044, -0.011819714680314064, -0.0076897782273590565, 0.049221742898225784, 0.05554927513003349, -0.01305325422435999, -0.0273002739995718, -0.007334453519433737, 0.08473218977451324, 0.013884645886719227, 0.022724296897649765, 0.013990373350679874, -0.00454164482653141, -0.037501875311136246, -0.02751007117331028, 0.00847538560628891, -0.0027186283841729164, 0.01936185173690319, 0.055575404316186905, -0.01933017000555992, 0.02900156006217003, 0.07041722536087036, 0.023338358849287033, 0.03458058461546898, -0.016510004177689552, -0.010119074955582619, 0.08270465582609177, 0.006744917016476393, 0.012038236483931541, 0.03133619949221611, 0.02570347487926483, -0.008923143148422241, 0.0018202648498117924, 0.04181605949997902, -0.0072273677214980125, -0.0427340567111969, -0.015023281797766685, 0.024107106029987335, -0.0030627467203885317, -0.07846613973379135, -0.0702301412820816, 0.04922186955809593, -0.04138581454753876, -0.053777195513248444, 0.0776638388633728, 0.04635501652956009, -0.030156860128045082, -0.020860057324171066, 0.05253852531313896, 0.025381362065672874, 0.06581360101699829, -0.02209676057100296, 0.06799592822790146, -0.044431302696466446, 0.022732390090823174, 0.01634165458381176, 0.008561162278056145, -0.046590786427259445, -0.04735080152750015, -0.04204636812210083, -0.023775886744260788, -0.05421414226293564, 0.10661705583333969, 0.021622275933623314, -0.04597939923405647, 0.03374450281262398, 0.021220548078417778, 0.03643765673041344, -0.0034788402263075113, 0.05488806962966919, -0.012212301604449749, 0.012507692910730839, -0.005113133229315281, -0.0018605447839945555, -0.061622705310583115, 0.027688244357705116, 0.013697345741093159, -0.035613443702459335, -0.0307827889919281, 0.035048432648181915, -0.053864359855651855, -0.03651781752705574, 0.03139445185661316, -0.012676335871219635, 0.00895804725587368, -0.018506698310375214, -0.03134760633111, 0.06062830239534378, 0.027904415503144264, -0.024602390825748444, 0.07378790527582169, -0.05369056761264801, -0.0036870830226689577, -0.04310610517859459, -0.018077939748764038, -0.02911105565726757, -0.004975862335413694, -0.020053263753652573, 0.01586558297276497, 0.08490823209285736, 0.03565700352191925, 0.09727597236633301, -0.008153117261826992, 0.06222667917609215, 0.04286517575383186, 0.03013797663152218, -0.03103906661272049, -0.0023346208035945892, 0.008749770931899548, -0.031604886054992676, 0.07216562330722809, 0.051208529621362686, 0.07706432044506073, 0.011109437793493271, 0.08253291994333267, 0.04615352675318718, -0.01810726895928383, 0.059390272945165634, 0.034830134361982346, 0.07349605113267899, -0.03043653443455696, 0.013635820709168911, -0.33034616708755493, 0.015834301710128784, 0.0033812958281487226, -0.02421102300286293, -0.000347024790244177, -0.0014017850626260042, -0.016094157472252846, -0.06175706163048744, -0.03094860166311264, 0.021751223132014275, 0.027652109041810036, 0.026039505377411842, -0.0473780520260334, 0.04481816664338112, -0.0765201672911644, 0.08345720171928406, 0.010159102268517017, -0.052903108298778534, -0.05757712945342064, 0.0015882409643381834, -0.03188042342662811, -0.05109057575464249, 0.033882226794958115, -0.036998968571424484, 0.02425011619925499, 0.007817482575774193, 0.09562046825885773, 0.05516848340630531, -0.06174160912632942, -0.02763286978006363, 0.04403945803642273, 0.038993705064058304, 0.01042466051876545, -0.08631691336631775, -0.005254355724900961, -0.07455870509147644, 0.011414195410907269, -0.08866772800683975, -0.004708593245595694, 0.004221347160637379, -0.03005731664597988, 0.029158150777220726, 0.0033985008485615253, -0.03198021277785301, -0.03962688520550728, -0.0259124506264925, 0.033688049763441086, 0.039756741374731064, -0.02013816498219967, 0.01885964721441269, -0.011111143976449966, 0.056316595524549484, 0.0028439639136195183, -0.023229703307151794, 0.032035015523433685, -0.010519508272409439, -0.046903301030397415, -0.04405670613050461, -0.05006401985883713, -0.022624555975198746, 0.03098326362669468, 0.026059545576572418, 0.04673503339290619, -0.04242126643657684, 0.027402915060520172, -0.03608560189604759, -0.024034200236201286, -0.03569968044757843, 0.03688472509384155, -0.01625792123377323, 0.0029163979925215244, 0.1303582787513733, -0.03186428174376488, -0.08133573085069656, 0.029626967385411263, 0.021860403940081596, -0.0197127778083086, -0.07777812331914902, -0.0831010639667511, 0.005834413226693869, -0.024290895089507103, -0.05910562351346016, -0.004758966621011496, 0.020590126514434814, 0.026397204026579857, -0.02815944142639637, 0.01705656386911869, -0.05513038858771324, -0.03368326276540756, -0.012095964513719082, 0.01523979939520359, 0.0010251101339235902, 0.00024894578382372856, 0.016803555190563202, -0.07865099608898163, -0.010371618904173374, -0.3032035827636719, 0.036970119923353195, -0.024352524429559708, 0.07008939236402512, 0.049343835562467575, 0.015022552572190762, -0.03382480889558792, 0.01640230603516102, 0.00504570035263896, 0.01836240105330944, 0.0328502394258976, 0.014420447871088982, 0.06914609670639038, -0.020398885011672974, 0.02178703062236309, -0.006088975351303816, 0.028226256370544434, 0.008544555865228176, 0.06199314445257187, -0.023590868338942528, 0.031638819724321365, -0.050629254430532455, 0.1425894945859909, -0.001798012643121183, -0.0857962965965271, 0.043675802648067474, -0.011112291365861893, 0.007268891669809818, 0.019535362720489502, 0.06510768830776215, -0.026687420904636383, 0.01979812979698181, 0.06882170587778091, 0.03041028045117855, -0.023830512538552284, 0.043400660157203674, -0.008584401570260525, 0.004400898236781359, 0.028972983360290527, 0.016316719353199005, -0.015162085182964802, 0.003802030812948942, -0.016217848286032677, 0.022197788581252098, 0.029674304649233818, -0.060070425271987915, 0.005806492641568184, -0.08656265586614609, 0.03515690192580223, 0.01593347080051899, 0.010979874059557915, -0.023241551592946053, 0.031045954674482346, 0.05923321098089218, 0.058872416615486145, -0.044388797134160995, -0.005796010140329599, -0.029468536376953125, -0.01864260621368885, -0.06481954455375671, -0.06923995167016983, 0.03707801550626755, 0.03247952461242676, 0.09706474840641022, 0.041391678154468536]]\n"
          ]
        }
      ],
      "source": [
        "from langchain.embeddings import HuggingFaceEmbeddings\n",
        "\n",
        "# Embedding Using Huggingface\n",
        "huggingface_embeddings = HuggingFaceEmbeddings(\n",
        "    model_name=\"BAAI/bge-small-en-v1.5\",  # Puedes cambiar esto a \"sentence-transformers/all-MiniLM-l6-v2\" si lo prefieres\n",
        "    model_kwargs={'device': 'cpu'},\n",
        "    encode_kwargs={'normalize_embeddings': True}\n",
        ")\n",
        "\n",
        "# Crear embeddings para el contenido limpio del documento\n",
        "embeddings = []\n",
        "for doc in cleaned_documents:\n",
        "    embedding = huggingface_embeddings.embed_documents([doc])\n",
        "    embeddings.append(embedding)\n",
        "\n",
        "# Imprimir los embeddings para análisis\n",
        "for idx, embedding in enumerate(embeddings):\n",
        "    print(f\"Embeddings del documento {idx + 1}: {embedding}\")\n"
      ]
    },
    {
      "cell_type": "markdown",
      "metadata": {},
      "source": [
        "### Celda 3: Crear Embeddings de una Consulta\n",
        "\n",
        "Utiliza el método `embed_query` para crear embeddings a partir del contenido del primer documento limpio.\n",
        "Convierte los embeddings a un array de NumPy y muestra el array y su forma."
      ]
    },
    {
      "cell_type": "code",
      "execution_count": 33,
      "metadata": {
        "id": "cUpiY9gc1QeI",
        "outputId": "3c1b87e4-48ea-4826-f05f-ec34fe99923d"
      },
      "outputs": [
        {
          "name": "stdout",
          "output_type": "stream",
          "text": [
            "[ 6.45462424e-03 -2.46223249e-02  2.79125851e-02 -3.84384254e-03\n",
            "  1.79614034e-02 -2.69851685e-02  3.88729461e-02  1.50382277e-02\n",
            " -5.20686582e-02 -1.00432977e-01 -1.95209607e-02 -5.34298345e-02\n",
            " -3.32753845e-02 -2.05176882e-02  3.11845578e-02 -5.44459149e-02\n",
            "  1.51904458e-02  1.72933377e-02 -7.99297243e-02  1.81558039e-02\n",
            "  5.10022081e-02  1.61134650e-03 -3.46217537e-03 -3.11432853e-02\n",
            "  7.09837629e-03 -1.58835482e-02  7.99498521e-03 -4.05838341e-03\n",
            " -3.10819168e-02 -1.18276112e-01 -2.18501501e-02 -3.27242091e-02\n",
            "  4.56970036e-02 -6.81589395e-02 -2.61188466e-02 -8.99188314e-03\n",
            "  2.97091203e-03  2.32900903e-02  2.83779576e-02  1.85963139e-02\n",
            "  5.69215380e-02  5.05052134e-02  3.34448856e-03  4.96448297e-03\n",
            "  5.46228960e-02 -6.91622868e-02 -8.16256776e-02 -5.15112691e-02\n",
            " -3.48759088e-04  2.43555997e-02 -1.76036786e-02  2.53083147e-02\n",
            " -3.69075947e-02  4.04026210e-02  2.99918223e-02 -2.76719895e-03\n",
            "  1.13067608e-02  4.28193249e-03  2.28792932e-02  4.69351001e-02\n",
            "  4.61886302e-02  5.41891716e-02 -1.64000601e-01  3.87863861e-03\n",
            "  5.76042244e-03  1.98294614e-02  8.64762813e-03 -8.69943760e-03\n",
            " -4.11541313e-02 -1.65246017e-02  3.37309130e-02 -2.19937973e-02\n",
            "  3.21923234e-02  6.98642284e-02 -9.54096147e-04  3.00751962e-02\n",
            " -2.13898495e-02 -1.01494342e-01 -1.66324824e-02  2.00440288e-02\n",
            "  1.29556854e-03  5.28737418e-02  2.51419912e-03 -3.38402577e-02\n",
            "  1.23316294e-03 -1.62436608e-02  1.42902415e-02 -3.87311988e-02\n",
            " -4.08448689e-02 -1.81540716e-02 -6.86635971e-02 -1.12694465e-02\n",
            "  2.02359650e-02  1.83624569e-02 -1.53473029e-02 -5.00136204e-02\n",
            " -5.06705940e-02  1.33012570e-02 -6.08890094e-02  3.61149430e-01\n",
            " -3.18948901e-03  2.01478973e-02 -1.18197147e-02 -7.68977823e-03\n",
            "  4.92217429e-02  5.55492751e-02 -1.30532542e-02 -2.73002740e-02\n",
            " -7.33445352e-03  8.47321898e-02  1.38846459e-02  2.27242969e-02\n",
            "  1.39903734e-02 -4.54164483e-03 -3.75018753e-02 -2.75100712e-02\n",
            "  8.47538561e-03 -2.71862838e-03  1.93618517e-02  5.55754043e-02\n",
            " -1.93301700e-02  2.90015601e-02  7.04172254e-02  2.33383588e-02\n",
            "  3.45805846e-02 -1.65100042e-02 -1.01190750e-02  8.27046558e-02\n",
            "  6.74491702e-03  1.20382365e-02  3.13361995e-02  2.57034749e-02\n",
            " -8.92314315e-03  1.82026485e-03  4.18160595e-02 -7.22736772e-03\n",
            " -4.27340567e-02 -1.50232818e-02  2.41071060e-02 -3.06274672e-03\n",
            " -7.84661397e-02 -7.02301413e-02  4.92218696e-02 -4.13858145e-02\n",
            " -5.37771955e-02  7.76638389e-02  4.63550165e-02 -3.01568601e-02\n",
            " -2.08600573e-02  5.25385253e-02  2.53813621e-02  6.58136010e-02\n",
            " -2.20967606e-02  6.79959282e-02 -4.44313027e-02  2.27323901e-02\n",
            "  1.63416546e-02  8.56116228e-03 -4.65907864e-02 -4.73508015e-02\n",
            " -4.20463681e-02 -2.37758867e-02 -5.42141423e-02  1.06617056e-01\n",
            "  2.16222759e-02 -4.59793992e-02  3.37445028e-02  2.12205481e-02\n",
            "  3.64376567e-02 -3.47884023e-03  5.48880696e-02 -1.22123016e-02\n",
            "  1.25076929e-02 -5.11313323e-03 -1.86054478e-03 -6.16227053e-02\n",
            "  2.76882444e-02  1.36973457e-02 -3.56134437e-02 -3.07827890e-02\n",
            "  3.50484326e-02 -5.38643599e-02 -3.65178175e-02  3.13944519e-02\n",
            " -1.26763359e-02  8.95804726e-03 -1.85066983e-02 -3.13476063e-02\n",
            "  6.06283024e-02  2.79044155e-02 -2.46023908e-02  7.37879053e-02\n",
            " -5.36905676e-02 -3.68708302e-03 -4.31061052e-02 -1.80779397e-02\n",
            " -2.91110557e-02 -4.97586234e-03 -2.00532638e-02  1.58655830e-02\n",
            "  8.49082321e-02  3.56570035e-02  9.72759724e-02 -8.15311726e-03\n",
            "  6.22266792e-02  4.28651758e-02  3.01379766e-02 -3.10390666e-02\n",
            " -2.33462080e-03  8.74977093e-03 -3.16048861e-02  7.21656233e-02\n",
            "  5.12085296e-02  7.70643204e-02  1.11094378e-02  8.25329199e-02\n",
            "  4.61535268e-02 -1.81072690e-02  5.93902729e-02  3.48301344e-02\n",
            "  7.34960511e-02 -3.04365344e-02  1.36358207e-02 -3.30346167e-01\n",
            "  1.58343017e-02  3.38129583e-03 -2.42110230e-02 -3.47024790e-04\n",
            " -1.40178506e-03 -1.60941575e-02 -6.17570616e-02 -3.09486017e-02\n",
            "  2.17512231e-02  2.76521090e-02  2.60395054e-02 -4.73780520e-02\n",
            "  4.48181666e-02 -7.65201673e-02  8.34572017e-02  1.01591023e-02\n",
            " -5.29031083e-02 -5.75771295e-02  1.58824096e-03 -3.18804234e-02\n",
            " -5.10905758e-02  3.38822268e-02 -3.69989686e-02  2.42501162e-02\n",
            "  7.81748258e-03  9.56204683e-02  5.51684834e-02 -6.17416091e-02\n",
            " -2.76328698e-02  4.40394580e-02  3.89937051e-02  1.04246605e-02\n",
            " -8.63169134e-02 -5.25435572e-03 -7.45587051e-02  1.14141954e-02\n",
            " -8.86677280e-02 -4.70859325e-03  4.22134716e-03 -3.00573166e-02\n",
            "  2.91581508e-02  3.39850085e-03 -3.19802128e-02 -3.96268852e-02\n",
            " -2.59124506e-02  3.36880498e-02  3.97567414e-02 -2.01381650e-02\n",
            "  1.88596472e-02 -1.11111440e-02  5.63165955e-02  2.84396391e-03\n",
            " -2.32297033e-02  3.20350155e-02 -1.05195083e-02 -4.69033010e-02\n",
            " -4.40567061e-02 -5.00640199e-02 -2.26245560e-02  3.09832636e-02\n",
            "  2.60595456e-02  4.67350334e-02 -4.24212664e-02  2.74029151e-02\n",
            " -3.60856019e-02 -2.40342002e-02 -3.56996804e-02  3.68847251e-02\n",
            " -1.62579212e-02  2.91639799e-03  1.30358279e-01 -3.18642817e-02\n",
            " -8.13357309e-02  2.96269674e-02  2.18604039e-02 -1.97127778e-02\n",
            " -7.77781233e-02 -8.31010640e-02  5.83441323e-03 -2.42908951e-02\n",
            " -5.91056235e-02 -4.75896662e-03  2.05901265e-02  2.63972040e-02\n",
            " -2.81594414e-02  1.70565639e-02 -5.51303886e-02 -3.36832628e-02\n",
            " -1.20959645e-02  1.52397994e-02  1.02511013e-03  2.48945784e-04\n",
            "  1.68035552e-02 -7.86509961e-02 -1.03716189e-02 -3.03203583e-01\n",
            "  3.69701199e-02 -2.43525244e-02  7.00893924e-02  4.93438356e-02\n",
            "  1.50225526e-02 -3.38248089e-02  1.64023060e-02  5.04570035e-03\n",
            "  1.83624011e-02  3.28502394e-02  1.44204479e-02  6.91460967e-02\n",
            " -2.03988850e-02  2.17870306e-02 -6.08897535e-03  2.82262564e-02\n",
            "  8.54455587e-03  6.19931445e-02 -2.35908683e-02  3.16388197e-02\n",
            " -5.06292544e-02  1.42589495e-01 -1.79801264e-03 -8.57962966e-02\n",
            "  4.36758026e-02 -1.11122914e-02  7.26889167e-03  1.95353627e-02\n",
            "  6.51076883e-02 -2.66874209e-02  1.97981298e-02  6.88217059e-02\n",
            "  3.04102805e-02 -2.38305125e-02  4.34006602e-02 -8.58440157e-03\n",
            "  4.40089824e-03  2.89729834e-02  1.63167194e-02 -1.51620852e-02\n",
            "  3.80203081e-03 -1.62178483e-02  2.21977886e-02  2.96743046e-02\n",
            " -6.00704253e-02  5.80649264e-03 -8.65626559e-02  3.51569019e-02\n",
            "  1.59334708e-02  1.09798741e-02 -2.32415516e-02  3.10459547e-02\n",
            "  5.92332110e-02  5.88724166e-02 -4.43887971e-02 -5.79601014e-03\n",
            " -2.94685364e-02 -1.86426062e-02 -6.48195446e-02 -6.92399517e-02\n",
            "  3.70780155e-02  3.24795246e-02  9.70647484e-02  4.13916782e-02]\n",
            "(384,)\n"
          ]
        }
      ],
      "source": [
        "import numpy as np\n",
        "\n",
        "# Crear embeddings para una consulta específica del primer documento limpio\n",
        "query_embedding = huggingface_embeddings.embed_query(cleaned_documents[0])\n",
        "\n",
        "# Mostrar los embeddings como un array de NumPy y su forma\n",
        "print(np.array(query_embedding))\n",
        "print(np.array(query_embedding).shape)\n"
      ]
    },
    {
      "cell_type": "markdown",
      "metadata": {},
      "source": [
        "\n",
        "## CELDA 4\n",
        "### Explicación del Código\n",
        "\n",
        "1. **Importar la Clase `Document`**:\n",
        "   Se importa la clase `Document` desde `langchain.schema` para crear objetos de documento adecuados.\n",
        "\n",
        "2. **Crear objetos de documento adecuados**:\n",
        "   Convierte las cadenas de texto limpias en objetos de documento adecuados utilizando la clase `Document`.\n",
        "\n",
        "3. **Crear el VectorStore**:\n",
        "   Utiliza `FAISS` y los embeddings generados para crear un `VectorStore`.\n",
        "\n",
        "4. **Verificación del VectorStore**:\n",
        "   Imprime un mensaje para verificar que el `VectorStore` se ha creado con éxito.\n",
        "\n",
        "Este enfoque asegura que `final_documents` contenga objetos de documento adecuados para que `FAISS` pueda procesarlos y crear el `VectorStore` correctamente.\n"
      ]
    },
    {
      "cell_type": "code",
      "execution_count": 48,
      "metadata": {
        "id": "mMWXH7-11QeI"
      },
      "outputs": [
        {
          "name": "stdout",
          "output_type": "stream",
          "text": [
            "VectorStore creado con éxito: <langchain_community.vectorstores.faiss.FAISS object at 0x000001DA38953A30>\n"
          ]
        }
      ],
      "source": [
        "from langchain.vectorstores import FAISS\n",
        "from langchain.schema import Document  # Importar la clase Document desde langchain.schema\n",
        "\n",
        "# Crear objetos de documento adecuados a partir de las cadenas de texto limpias\n",
        "final_documents = [Document(page_content=content) for content in cleaned_documents[:120]]\n",
        "\n",
        "# Crear el VectorStore utilizando FAISS y los embeddings generados\n",
        "vectorstore = FAISS.from_documents(final_documents, huggingface_embeddings)\n",
        "\n",
        "# Verificación del VectorStore creado\n",
        "print(\"VectorStore creado con éxito:\", vectorstore)"
      ]
    },
    {
      "cell_type": "markdown",
      "metadata": {},
      "source": [
        "## HASTA AQUI REVISADO Y FUNCIONANDO HOY 29/05 JUEVES"
      ]
    },
    {
      "cell_type": "markdown",
      "metadata": {},
      "source": [
        "### Celda 5: Realizar una Consulta Usando Búsqueda por Similaridad\n",
        "\n",
        "Esta celda utiliza el `VectorStore` para realizar una búsqueda por similaridad basándose en una consulta específica. Luego, imprime el contenido del documento más relevante encontrado.\n"
      ]
    },
    {
      "cell_type": "code",
      "execution_count": 49,
      "metadata": {},
      "outputs": [
        {
          "name": "stdout",
          "output_type": "stream",
          "text": [
            "COLESTEROL: MITOS Y VERDADES\n",
            "\n",
            "Mito: Sólo necesitará analizar sus niveles de colesterol cuando tenga más de 30 años.\n",
            "\n",
            "Verdad: La Asociación Americana del Corazón (AHA) recomienda analizar los niveles de colesterol\n",
            "\n",
            "una vez entre los 9 y 11 años, y de nuevo entre los 17 y 21 años para niños y adultos jóvenes sin otros\n",
            "\n",
            "factores de riesgos o un historial familiar de enfermedad cardíaca temprana. Después de los 20\n",
            "\n",
            "años, su doctor volverá a analizar su colesterol y otros factores de riesgo cada cuatro a seis años\n",
            "\n",
            "siempre y cuando su riesgo se mantenga bajo.\n",
            "\n",
            "Mito: Sólo la gente con sobrepeso u obesidad tiene colesterol alto.\n",
            "\n",
            "Verdad: Las personas con cualquier tipo de cuerpo pueden tener colesterol alto. Tener sobrepeso\n",
            "\n",
            "u obesidad aumenta sus probabilidades de tener colesterol alto, pero ser delgado no lo protege.\n",
            "\n",
            "Independientemente de su peso, dieta y nivel de actividad física, debería medir su nivel de\n",
            "\n",
            "colesterol con regularidad.\n",
            "\n",
            "Mito: Tener colesterol alto es un problema sólo de los hombres.\n",
            "\n",
            "Verdad: Aunque la ateroesclerosis generalmente ocurre a una mayor edad en las mujeres que\n",
            "\n",
            "en los hombres, la enfermedad cardiovascular sigue siendo la principal causa de muerte en las\n",
            "\n",
            "mujeres. Los médicos deben considerar condiciones medicas especiﬁcas de mujeres, tales como\n",
            "\n",
            "menopausia prematura (antes de los 40 años) y condiciones asociadas al embarazo, cuando les\n",
            "\n",
            "hablen sobre sus niveles de colesterol y las opciones para su tratamiento.\n",
            "\n",
            "Mito: Si su médico no ha mencionado sus niveles de colesterol, usted está bien.\n",
            "\n",
            "Verdad: Usted puede hacerse cargo de su salud. Si usted tiene 20 años o más, pídale a su médico\n",
            "\n",
            "que le realice un análisis de colesterol, que evalúe sus factores de riesgo y que determine su riesgo\n",
            "\n",
            "de tener un ataque al corazón o un derrame cerebral. Si tiene entre 20 y 39 años, su médico debería\n",
            "\n",
            "evaluar su riesgo para toda la vida. Si tiene entre 40 y 75 años, pídale a su médico que evalúe su\n",
            "\n",
            "riesgo a 10 años. Si sus riesgos son altos, un cambio en su estilo de vida y medicamento de estatina\n",
            "\n",
            "podrían ayudar a controlar el riesgo.\n",
            "\n",
            "Mito: Su nivel de colesterol es consecuencia de su dieta y su nivel de actividad física.\n",
            "\n",
            "Verdad: Es verdad, la dieta y la actividad física afectan su nivel de colesterol, pero no son los únicos\n",
            "\n",
            "factores. Envejecer y tener sobrepeso u obesidad también son cosas que pueden afectar su nivel\n",
            "\n",
            "de colesterol. Algunas personas nacen con niveles de colesterol altos que heredaron de sus padres.\n",
            "\n",
            "Cualquiera sea el caso, es muy importante seguir una dieta saludable para el corazón y hacer\n",
            "\n",
            "abundante cantidad de actividad física de intensidad moderada para reducir su riesgo de tener un\n",
            "\n",
            "ataque al corazón o un derrama cerebral.\n",
            "\n",
            "Puede obtener más información sobre el colesterol en [heart.org/Cholesterol](http://www.heart.org/Cholesterol)\n",
            "\n",
            "\n",
            "\n",
            "<a name=\"br2\"></a> \n",
            "\n",
            "COLESTEROL: MITOS Y VERDADES\n",
            "\n",
            "Mito: Si toma medicamentos para bajar el colesterol, no necesita hacer cambios en su dieta ni en\n",
            "\n",
            "su estilo de vida.\n",
            "\n",
            "Verdad: Es importante que tome sus medicamentos exactamente como le indiquen. Pero las mejores\n",
            "\n",
            "maneras de reducir su riesgo de tener una enfermedad cardíaca o un derrame cerebral son seguir una\n",
            "\n",
            "dieta saludable para el corazón e incluir actividad física regular en su rutina semanal. Haga actividad\n",
            "\n",
            "aeróbica de moderada a intensa por al menos 150 minutos a la semana o actividad vigorosa por 75\n",
            "\n",
            "minutos a la semana, o una combinación de ambas, de preferencia esparcidas durante la semana.\n",
            "\n",
            "Mito: Si la etiqueta de nutrición no muestra colesterol, el alimento es saludable para el corazón.\n",
            "\n",
            "Verdad: Muchos alimentos que “no tienen colesterol” o incluso que son “bajos en grasa” tienen un\n",
            "\n",
            "alto contenido de otros tipos de grasas “malas”, como las grasas saturadas y grasas trans. Asegúrese\n",
            "\n",
            "de revisar la etiqueta de los alimentos para ver si tienen grasa saturada y grasa trans, y ver el total\n",
            "\n",
            "de calorías. Además, tenga en cuenta que la porción en que se basan esos números puede ser menor\n",
            "\n",
            "que el contenido completo del envase. (Es decir, puede que el envase incluya más de una porción).\n",
            "\n",
            "Mito: Cambiar la mantequilla por margarina me ayudará a bajar el colesterol.\n",
            "\n",
            "Verdad: No necesariamente. La mantequilla es alta en grasa saturada, pero algunos tipos de\n",
            "\n",
            "margarinas tienen incluso un contenido mayor de ambos tipos de grasas. Las margarinas líquidas\n",
            "\n",
            "y las margarinas untables que vienen en pomo tienden a tener menos grasas “malas”. Compare\n",
            "\n",
            "etiquetas y elija la que tenga 0 gramos de grasa trans en los Datos de Nutrición y nada de aceites\n",
            "\n",
            "hidrogenados en los ingredientes.\n",
            "\n",
            "Mito: Los niños no necesitan preocuparse por el colesterol.\n",
            "\n",
            "Verdad: Los niños pueden tener niveles de colesterol altos, igual que los adultos. Esto es\n",
            "\n",
            "particularmente cierto para aquellos niños que heredan los niveles de colesterol altos de su madre,\n",
            "\n",
            "su padre o ambos. Es una afección que se llama hipercolesterolemia familiar (HF). Estos niños tienen\n",
            "\n",
            "un alto riesgo de tener un ataque al corazón o un derrame cerebral a edad temprana. Un pronto\n",
            "\n",
            "diagnóstico y tratamiento son esenciales en estos casos.\n",
            "\n",
            "Puede obtener más información sobre el colesterol en [heart.org/Cholesterol](http://www.heart.org/Cholesterol)\n",
            "\n",
            "© Derechos de autor 2020 American Heart Association, Inc., una organización sin ﬁnes de lucro 501(c)(3). Todos los derechos\n",
            "\n",
            "reservados. Check. Change. Control. Choleterol es una marca registrada de la AHA. Se prohíbe el uso no autorizado.\n",
            "\n",
            "DS16576 9/20\n"
          ]
        }
      ],
      "source": [
        "## Query using Similarity Search\n",
        "query = \"TENGO ALTO EL COLESTEROL QUE DEBO HACER, TENGO 35 AÑOS\"\n",
        "relevant_documents = vectorstore.similarity_search(query)\n",
        "\n",
        "print(relevant_documents[0].page_content)"
      ]
    },
    {
      "cell_type": "markdown",
      "metadata": {},
      "source": [
        "### Celda 6: Configurar el Retriever y Realizar una Consulta\n",
        "\n",
        "Ahora, configuramos el `Retriever` y realizamos una consulta, imprimiendo también los metadatos.\n"
      ]
    },
    {
      "cell_type": "code",
      "execution_count": 53,
      "metadata": {
        "id": "aZNWB61Q1QeI",
        "outputId": "c1ac8ebd-314a-4b1b-8642-1066af425b9d"
      },
      "outputs": [
        {
          "name": "stdout",
          "output_type": "stream",
          "text": [
            "Documento relevante 1:\n",
            "Fuente: Documento 1\n",
            "Contenido: COLESTEROL: MITOS Y VERDADES\n",
            "\n",
            "Mito: Sólo necesitará analizar sus niveles de colesterol cuando tenga más de 30 años.\n",
            "\n",
            "Verdad: La Asociación Americana del Corazón (AHA) recomienda analizar los niveles de colesterol\n",
            "\n",
            "una vez entre los 9 y 11 años, y de nuevo entre los 17 y 21 años para niños y adultos jóvenes sin otros\n",
            "\n",
            "factores de riesgos o un historial familiar de enfermedad cardíaca temprana. Después de los 20\n",
            "\n",
            "años, su doctor volverá a analizar su colesterol y otros factores de riesgo cada cuatro a seis años\n",
            "\n",
            "siempre y cuando su riesgo se mantenga bajo.\n",
            "\n",
            "Mito: Sólo la gente con sobrepeso u obesidad tiene colesterol alto.\n",
            "\n",
            "Verdad: Las personas con cualquier tipo de cuerpo pueden tener colesterol alto. Tener sobrepeso\n",
            "\n",
            "u obesidad aumenta sus probabilidades de tener colesterol alto, pero ser delgado no lo protege.\n",
            "\n",
            "Independientemente de su peso, dieta y nivel de actividad física, debería medir su nivel de\n",
            "\n",
            "colesterol con regularidad.\n",
            "\n",
            "Mito: Tener colesterol alto es un problema sólo de los hombres.\n",
            "\n",
            "Verdad: Aunque la ateroesclerosis generalmente ocurre a una mayor edad en las mujeres que\n",
            "\n",
            "en los hombres, la enfermedad cardiovascular sigue siendo la principal causa de muerte en las\n",
            "\n",
            "mujeres. Los médicos deben considerar condiciones medicas especiﬁcas de mujeres, tales como\n",
            "\n",
            "menopausia prematura (antes de los 40 años) y condiciones asociadas al embarazo, cuando les\n",
            "\n",
            "hablen sobre sus niveles de colesterol y las opciones para su tratamiento.\n",
            "\n",
            "Mito: Si su médico no ha mencionado sus niveles de colesterol, usted está bien.\n",
            "\n",
            "Verdad: Usted puede hacerse cargo de su salud. Si usted tiene 20 años o más, pídale a su médico\n",
            "\n",
            "que le realice un análisis de colesterol, que evalúe sus factores de riesgo y que determine su riesgo\n",
            "\n",
            "de tener un ataque al corazón o un derrame cerebral. Si tiene entre 20 y 39 años, su médico debería\n",
            "\n",
            "evaluar su riesgo para toda la vida. Si tiene entre 40 y 75 años, pídale a su médico que evalúe su\n",
            "\n",
            "riesgo a 10 años. Si sus riesgos son altos, un cambio en su estilo de vida y medicamento de estatina\n",
            "\n",
            "podrían ayudar a controlar el riesgo.\n",
            "\n",
            "Mito: Su nivel de colesterol es consecuencia de su dieta y su nivel de actividad física.\n",
            "\n",
            "Verdad: Es verdad, la dieta y la actividad física afectan su nivel de colesterol, pero no son los únicos\n",
            "\n",
            "factores. Envejecer y tener sobrepeso u obesidad también son cosas que pueden afectar su nivel\n",
            "\n",
            "de colesterol. Algunas personas nacen con niveles de colesterol altos que heredaron de sus padres.\n",
            "\n",
            "Cualquiera sea el caso, es muy importante seguir una dieta saludable para el corazón y hacer\n",
            "\n",
            "abundante cantidad de actividad física de intensidad moderada para reducir su riesgo de tener un\n",
            "\n",
            "ataque al corazón o un derrama cerebral.\n",
            "\n",
            "Puede obtener más información sobre el colesterol en [heart.org/Cholesterol](http://www.heart.org/Cholesterol)\n",
            "\n",
            "\n",
            "\n",
            "<a name=\"br2\"></a> \n",
            "\n",
            "COLESTEROL: MITOS Y VERDADES\n",
            "\n",
            "Mito: Si toma medicamentos para bajar el colesterol, no necesita hacer cambios en su dieta ni en\n",
            "\n",
            "su estilo de vida.\n",
            "\n",
            "Verdad: Es importante que tome sus medicamentos exactamente como le indiquen. Pero las mejores\n",
            "\n",
            "maneras de reducir su riesgo de tener una enfermedad cardíaca o un derrame cerebral son seguir una\n",
            "\n",
            "dieta saludable para el corazón e incluir actividad física regular en su rutina semanal. Haga actividad\n",
            "\n",
            "aeróbica de moderada a intensa por al menos 150 minutos a la semana o actividad vigorosa por 75\n",
            "\n",
            "minutos a la semana, o una combinación de ambas, de preferencia esparcidas durante la semana.\n",
            "\n",
            "Mito: Si la etiqueta de nutrición no muestra colesterol, el alimento es saludable para el corazón.\n",
            "\n",
            "Verdad: Muchos alimentos que “no tienen colesterol” o incluso que son “bajos en grasa” tienen un\n",
            "\n",
            "alto contenido de otros tipos de grasas “malas”, como las grasas saturadas y grasas trans. Asegúrese\n",
            "\n",
            "de revisar la etiqueta de los alimentos para ver si tienen grasa saturada y grasa trans, y ver el total\n",
            "\n",
            "de calorías. Además, tenga en cuenta que la porción en que se basan esos números puede ser menor\n",
            "\n",
            "que el contenido completo del envase. (Es decir, puede que el envase incluya más de una porción).\n",
            "\n",
            "Mito: Cambiar la mantequilla por margarina me ayudará a bajar el colesterol.\n",
            "\n",
            "Verdad: No necesariamente. La mantequilla es alta en grasa saturada, pero algunos tipos de\n",
            "\n",
            "margarinas tienen incluso un contenido mayor de ambos tipos de grasas. Las margarinas líquidas\n",
            "\n",
            "y las margarinas untables que vienen en pomo tienden a tener menos grasas “malas”. Compare\n",
            "\n",
            "etiquetas y elija la que tenga 0 gramos de grasa trans en los Datos de Nutrición y nada de aceites\n",
            "\n",
            "hidrogenados en los ingredientes.\n",
            "\n",
            "Mito: Los niños no necesitan preocuparse por el colesterol.\n",
            "\n",
            "Verdad: Los niños pueden tener niveles de colesterol altos, igual que los adultos. Esto es\n",
            "\n",
            "particularmente cierto para aquellos niños que heredan los niveles de colesterol altos de su madre,\n",
            "\n",
            "su padre o ambos. Es una afección que se llama hipercolesterolemia familiar (HF). Estos niños tienen\n",
            "\n",
            "un alto riesgo de tener un ataque al corazón o un derrame cerebral a edad temprana. Un pronto\n",
            "\n",
            "diagnóstico y tratamiento son esenciales en estos casos.\n",
            "\n",
            "Puede obtener más información sobre el colesterol en [heart.org/Cholesterol](http://www.heart.org/Cholesterol)\n",
            "\n",
            "© Derechos de autor 2020 American Heart Association, Inc., una organización sin ﬁnes de lucro 501(c)(3). Todos los derechos\n",
            "\n",
            "reservados. Check. Change. Control. Choleterol es una marca registrada de la AHA. Se prohíbe el uso no autorizado.\n",
            "\n",
            "DS16576 9/20\n",
            "\n"
          ]
        },
        {
          "name": "stderr",
          "output_type": "stream",
          "text": [
            "d:\\Users\\casti\\pinokio\\bin\\miniconda\\lib\\site-packages\\langchain_core\\_api\\deprecation.py:119: LangChainDeprecationWarning: The method `BaseRetriever.get_relevant_documents` was deprecated in langchain-core 0.1.46 and will be removed in 0.3.0. Use invoke instead.\n",
            "  warn_deprecated(\n"
          ]
        }
      ],
      "source": [
        "## Configurar el Retriever\n",
        "retriever = vectorstore.as_retriever(search_type=\"similarity\", search_kwargs={\"k\": 3})\n",
        "\n",
        "# Realizar una consulta usando el Retriever\n",
        "query = \"TENGO ALTO EL COLESTEROL QUE DEBO HACER, TENGO 35 AÑOS\"\n",
        "relevant_documents = retriever.get_relevant_documents(query)\n",
        "\n",
        "# Imprimir el contenido relevante y sus metadatos\n",
        "for idx, doc in enumerate(relevant_documents):\n",
        "    print(f\"Documento relevante {idx + 1}:\")\n",
        "    print(f\"Fuente: {doc.metadata['source']}\")\n",
        "    print(f\"Contenido: {doc.page_content}\\n\")\n"
      ]
    }
  ],
  "metadata": {
    "colab": {
      "include_colab_link": true,
      "provenance": []
    },
    "kernelspec": {
      "display_name": "Python 3",
      "language": "python",
      "name": "python3"
    },
    "language_info": {
      "codemirror_mode": {
        "name": "ipython",
        "version": 3
      },
      "file_extension": ".py",
      "mimetype": "text/x-python",
      "name": "python",
      "nbconvert_exporter": "python",
      "pygments_lexer": "ipython3",
      "version": "3.10.12"
    }
  },
  "nbformat": 4,
  "nbformat_minor": 0
}
